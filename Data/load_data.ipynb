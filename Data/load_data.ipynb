{
 "cells": [
  {
   "cell_type": "code",
   "execution_count": 114,
   "metadata": {},
   "outputs": [],
   "source": [
    "import pandas as pd\n",
    "import numpy as np"
   ]
  },
  {
   "cell_type": "code",
   "execution_count": 115,
   "metadata": {},
   "outputs": [
    {
     "data": {
      "text/plain": [
       "Datum von\n",
       "01.11.2018 00:00     48879.5\n",
       "01.11.2018 01:00     47312.5\n",
       "01.11.2018 02:00    46093.75\n",
       "01.11.2018 03:00     46710.5\n",
       "01.11.2018 04:00    47624.25\n",
       "                      ...   \n",
       "31.10.2024 19:00     59605.0\n",
       "31.10.2024 20:00    56859.25\n",
       "31.10.2024 21:00     54040.5\n",
       "31.10.2024 22:00     51405.0\n",
       "31.10.2024 23:00    48110.75\n",
       "Name: Gesamt (Netzlast) [MWh] Berechnete Auflösungen, Length: 52608, dtype: object"
      ]
     },
     "execution_count": 115,
     "metadata": {},
     "output_type": "execute_result"
    }
   ],
   "source": [
    "df = pd.read_csv('Realisierter_Stromverbrauch_201811010000_202411010000_Stunde.csv', \n",
    "                 sep= ';',\n",
    "                 index_col= [0],\n",
    "                 parse_dates= [0])\n",
    "\n",
    "df = df.iloc[:,[1,2]]\n",
    "\n",
    "\n",
    "# Replace '.' with '' (remove thousand separator) and ',' with '.' (convert to decimal point)\n",
    "df.iloc[:, 0] = df.iloc[:, 0].str.replace('.', '', regex=False).str.replace(',', '.', regex=False)\n",
    "\n",
    "# Convert the column to float\n",
    "df.iloc[:, 0] = df.iloc[:, 0].astype(float)\n",
    "\n",
    "df_load = df['Gesamt (Netzlast) [MWh] Berechnete Auflösungen']\n",
    "\n",
    "df_load\n"
   ]
  },
  {
   "cell_type": "code",
   "execution_count": 116,
   "metadata": {},
   "outputs": [
    {
     "data": {
      "text/plain": [
       "Index(['Datum bis_x', 'Gesamt (Netzlast) [MWh] Berechnete Auflösungen',\n",
       "       'Residuallast [MWh] Berechnete Auflösungen',\n",
       "       'Pumpspeicher [MWh] Berechnete Auflösungen_x', 'Datum bis_y',\n",
       "       'Biomasse [MWh] Berechnete Auflösungen',\n",
       "       'Wasserkraft [MWh] Berechnete Auflösungen',\n",
       "       'Wind Offshore [MWh] Berechnete Auflösungen',\n",
       "       'Wind Onshore [MWh] Berechnete Auflösungen',\n",
       "       'Photovoltaik [MWh] Berechnete Auflösungen',\n",
       "       'Sonstige Erneuerbare [MWh] Berechnete Auflösungen',\n",
       "       'Kernenergie [MWh] Berechnete Auflösungen',\n",
       "       'Braunkohle [MWh] Berechnete Auflösungen',\n",
       "       'Steinkohle [MWh] Berechnete Auflösungen',\n",
       "       'Erdgas [MWh] Berechnete Auflösungen',\n",
       "       'Pumpspeicher [MWh] Berechnete Auflösungen_y',\n",
       "       'Sonstige Konventionelle [MWh] Berechnete Auflösungen', 'Datum bis',\n",
       "       'Deutschland/Luxemburg [€/MWh] Originalauflösungen',\n",
       "       '∅ Anrainer DE/LU [€/MWh] Originalauflösungen',\n",
       "       'Belgien [€/MWh] Originalauflösungen',\n",
       "       'Dänemark 1 [€/MWh] Originalauflösungen',\n",
       "       'Dänemark 2 [€/MWh] Originalauflösungen',\n",
       "       'Frankreich [€/MWh] Originalauflösungen',\n",
       "       'Niederlande [€/MWh] Originalauflösungen',\n",
       "       'Norwegen 2 [€/MWh] Originalauflösungen',\n",
       "       'Österreich [€/MWh] Originalauflösungen',\n",
       "       'Polen [€/MWh] Originalauflösungen',\n",
       "       'Schweden 4 [€/MWh] Originalauflösungen',\n",
       "       'Schweiz [€/MWh] Originalauflösungen',\n",
       "       'Tschechien [€/MWh] Originalauflösungen',\n",
       "       'DE/AT/LU [€/MWh] Originalauflösungen',\n",
       "       'Italien (Nord) [€/MWh] Originalauflösungen',\n",
       "       'Slowenien [€/MWh] Originalauflösungen',\n",
       "       'Ungarn [€/MWh] Originalauflösungen'],\n",
       "      dtype='object')"
      ]
     },
     "execution_count": 116,
     "metadata": {},
     "output_type": "execute_result"
    }
   ],
   "source": [
    "df = pd.read_csv('merged_data.csv', \n",
    "                 sep= ',',\n",
    "                 index_col= [0],\n",
    "                 parse_dates= [0])\n",
    "\n",
    "\n",
    "\n",
    "df.columns"
   ]
  },
  {
   "cell_type": "code",
   "execution_count": 117,
   "metadata": {},
   "outputs": [],
   "source": [
    "df_lo = df[['Gesamt (Netzlast) [MWh] Berechnete Auflösungen', \n",
    "         'Deutschland/Luxemburg [€/MWh] Originalauflösungen']]\n",
    "\n",
    "df_po = df.iloc[:, 5:17]\n",
    "\n",
    "df = pd.concat([df_lo, df_po], axis=1)"
   ]
  },
  {
   "cell_type": "code",
   "execution_count": 118,
   "metadata": {},
   "outputs": [],
   "source": [
    "# Replace '-' with NaN\n",
    "df = df.replace('-', float('nan'))\n",
    "\n",
    "# Forward-fill to replace NaNs with the last valid value\n",
    "df = df.ffill()"
   ]
  },
  {
   "cell_type": "code",
   "execution_count": 119,
   "metadata": {},
   "outputs": [],
   "source": [
    "# Replace '.' with '' (remove thousand separator) and ',' with '.' (convert to decimal point) for all columns\n",
    "df = df.apply(lambda x: x.astype(str).str.replace('.', '', regex=False).str.replace(',', '.', regex=False))\n",
    "\n",
    "# Convert all columns back to float\n",
    "df = df.astype(float)\n",
    "\n"
   ]
  },
  {
   "cell_type": "code",
   "execution_count": 131,
   "metadata": {},
   "outputs": [],
   "source": [
    "def create_time_features(df, label=None):\n",
    "    \"\"\"\n",
    "    Creates time series features from datetime index with sinusoidal encoding for cyclical features\n",
    "    and adds a binary variable for weekends vs. workdays.\n",
    "    \"\"\"\n",
    "    df = df.copy()\n",
    "    \n",
    "    # Ensure the index is a datetime object\n",
    "    df['date'] = df.index\n",
    "    \n",
    "    # Create time-based features\n",
    "    df['hour'] = df['date'].dt.hour\n",
    "    df['dayofweek'] = df['date'].dt.dayofweek\n",
    "    df['day_name'] = df['date'].dt.day_name()\n",
    "    df['quarter'] = df['date'].dt.quarter\n",
    "    df['month'] = df['date'].dt.month\n",
    "    df['year'] = df['date'].dt.year\n",
    "    df['dayofyear'] = df['date'].dt.dayofyear\n",
    "    df['dayofmonth'] = df['date'].dt.day\n",
    "    df['date_offset'] = (df['date'].dt.month * 100 + df['date'].dt.day - 320) % 1300\n",
    "    \n",
    "    # Encode cyclical features with sin and cos\n",
    "    # Hour encoding\n",
    "    df['hour_sin'] = np.sin(2 * np.pi * df['hour'] / 24)\n",
    "    df['hour_cos'] = np.cos(2 * np.pi * df['hour'] / 24)\n",
    "    \n",
    "    # Day of week encoding\n",
    "    df['dayofweek_sin'] = np.sin(2 * np.pi * df['dayofweek'] / 7)\n",
    "    df['dayofweek_cos'] = np.cos(2 * np.pi * df['dayofweek'] / 7)\n",
    "    \n",
    "    # Month encoding\n",
    "    df['month_sin'] = np.sin(2 * np.pi * df['month'] / 12)\n",
    "    df['month_cos'] = np.cos(2 * np.pi * df['month'] / 12)\n",
    "    \n",
    "    # Day of year encoding\n",
    "    df['dayofyear_sin'] = np.sin(2 * np.pi * df['dayofyear'] / 365)\n",
    "    df['dayofyear_cos'] = np.cos(2 * np.pi * df['dayofyear'] / 365)\n",
    "    \n",
    "    # Add binary weekend/workday variable\n",
    "    df['is_workday'] = df['dayofweek'].apply(lambda x: 1 if x < 5 else 0)\n",
    "    \n",
    "    # Optionally add label column\n",
    "    if label is not None:\n",
    "        df['label'] = df[label]\n",
    "    \n",
    "    return df\n"
   ]
  },
  {
   "cell_type": "code",
   "execution_count": 132,
   "metadata": {},
   "outputs": [
    {
     "name": "stdout",
     "output_type": "stream",
     "text": [
      "['Not a Holiday' 'Christmas Day' 'Second Christmas Day' 'New year'\n",
      " 'Good Friday' 'Easter Monday' 'Labour Day' 'Ascension Thursday'\n",
      " 'Whit Monday' 'Day of German Unity']\n"
     ]
    }
   ],
   "source": [
    "from workalendar.europe import Germany\n",
    "\n",
    "# Initialize the German holiday calendar\n",
    "cal = Germany()\n",
    "\n",
    "# Ensure your 'Date' index is a datetime object\n",
    "df.index = pd.to_datetime(df.index)\n",
    "\n",
    "# Create a new column to hold holiday names or \"Not a Holiday\"\n",
    "df['Holiday'] = df.index.map(lambda date: cal.get_holiday_label(date) or \"Not a Holiday\")\n",
    "\n",
    "# Display the first few rows to verify\n",
    "print(df['Holiday'].unique())\n"
   ]
  },
  {
   "cell_type": "code",
   "execution_count": 133,
   "metadata": {},
   "outputs": [],
   "source": [
    "df_features = create_time_features(df)"
   ]
  },
  {
   "cell_type": "code",
   "execution_count": 134,
   "metadata": {},
   "outputs": [],
   "source": [
    "df_features.to_csv(\"merged_cleaned.csv\")"
   ]
  },
  {
   "cell_type": "code",
   "execution_count": 135,
   "metadata": {},
   "outputs": [],
   "source": [
    "from sklearn.preprocessing import MinMaxScaler\n",
    "\n",
    "# Exclude non-numeric and pre-encoded columns\n",
    "exclude_columns = ['date', 'date_offset', 'day_name', 'hour_sin', 'hour_cos', \n",
    "                   'dayofweek_sin', 'dayofweek_cos', 'month_sin', 'month_cos', \n",
    "                   'dayofyear_sin', 'dayofyear_cos', 'quarter', 'month', 'year', \n",
    "                   'dayofyear', 'dayofmonth', 'hour', 'dayofweek']\n",
    "\n",
    "# Select numeric columns excluding the ones to exclude\n",
    "columns_to_normalize = [col for col in df.columns if col not in exclude_columns and pd.api.types.is_numeric_dtype(df[col])]\n",
    "\n",
    "# Initialize MinMaxScaler\n",
    "scaler = MinMaxScaler()\n",
    "\n",
    "# Normalize the selected columns\n",
    "df[columns_to_normalize] = scaler.fit_transform(df[columns_to_normalize])\n",
    "\n",
    "# upload normalized df \n",
    "df_features.to_csv(\"merged_cleaned_normalized.csv\")"
   ]
  }
 ],
 "metadata": {
  "kernelspec": {
   "display_name": "Python 3",
   "language": "python",
   "name": "python3"
  },
  "language_info": {
   "codemirror_mode": {
    "name": "ipython",
    "version": 3
   },
   "file_extension": ".py",
   "mimetype": "text/x-python",
   "name": "python",
   "nbconvert_exporter": "python",
   "pygments_lexer": "ipython3",
   "version": "3.10.0"
  }
 },
 "nbformat": 4,
 "nbformat_minor": 2
}
