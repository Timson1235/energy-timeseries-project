{
 "cells": [
  {
   "cell_type": "code",
   "execution_count": 18,
   "metadata": {},
   "outputs": [
    {
     "name": "stdout",
     "output_type": "stream",
     "text": [
      "Requirement already satisfied: dwdweather2 in c:\\users\\timpr\\allcode\\energy-timeseries-project\\.venv\\lib\\site-packages (0.14.0)\n",
      "Requirement already satisfied: tqdm>=4.32 in c:\\users\\timpr\\allcode\\energy-timeseries-project\\.venv\\lib\\site-packages (from dwdweather2) (4.67.1)\n",
      "Requirement already satisfied: python-dateutil<2.9,>=2.8 in c:\\users\\timpr\\allcode\\energy-timeseries-project\\.venv\\lib\\site-packages (from dwdweather2) (2.8.2)\n",
      "Requirement already satisfied: requests<2.23,>=2.22 in c:\\users\\timpr\\allcode\\energy-timeseries-project\\.venv\\lib\\site-packages (from dwdweather2) (2.22.0)\n",
      "Requirement already satisfied: requests-cache<0.6,>=0.5 in c:\\users\\timpr\\allcode\\energy-timeseries-project\\.venv\\lib\\site-packages (from dwdweather2) (0.5.2)\n",
      "Requirement already satisfied: htmllistparse<0.6.0,>=0.5.2 in c:\\users\\timpr\\allcode\\energy-timeseries-project\\.venv\\lib\\site-packages (from dwdweather2) (0.5.2)\n",
      "Requirement already satisfied: beautifulsoup4 in c:\\users\\timpr\\allcode\\energy-timeseries-project\\.venv\\lib\\site-packages (from htmllistparse<0.6.0,>=0.5.2->dwdweather2) (4.12.3)\n",
      "Requirement already satisfied: html5lib in c:\\users\\timpr\\allcode\\energy-timeseries-project\\.venv\\lib\\site-packages (from htmllistparse<0.6.0,>=0.5.2->dwdweather2) (1.1)\n",
      "Requirement already satisfied: fusepy in c:\\users\\timpr\\allcode\\energy-timeseries-project\\.venv\\lib\\site-packages (from htmllistparse<0.6.0,>=0.5.2->dwdweather2) (3.0.1)\n",
      "Requirement already satisfied: six>=1.5 in c:\\users\\timpr\\allcode\\energy-timeseries-project\\.venv\\lib\\site-packages (from python-dateutil<2.9,>=2.8->dwdweather2) (1.17.0)\n",
      "Requirement already satisfied: idna<2.9,>=2.5 in c:\\users\\timpr\\allcode\\energy-timeseries-project\\.venv\\lib\\site-packages (from requests<2.23,>=2.22->dwdweather2) (2.8)\n",
      "Requirement already satisfied: chardet<3.1.0,>=3.0.2 in c:\\users\\timpr\\allcode\\energy-timeseries-project\\.venv\\lib\\site-packages (from requests<2.23,>=2.22->dwdweather2) (3.0.4)\n",
      "Requirement already satisfied: certifi>=2017.4.17 in c:\\users\\timpr\\allcode\\energy-timeseries-project\\.venv\\lib\\site-packages (from requests<2.23,>=2.22->dwdweather2) (2024.12.14)\n",
      "Requirement already satisfied: urllib3!=1.25.0,!=1.25.1,<1.26,>=1.21.1 in c:\\users\\timpr\\allcode\\energy-timeseries-project\\.venv\\lib\\site-packages (from requests<2.23,>=2.22->dwdweather2) (1.25.11)\n",
      "Requirement already satisfied: colorama in c:\\users\\timpr\\allcode\\energy-timeseries-project\\.venv\\lib\\site-packages (from tqdm>=4.32->dwdweather2) (0.4.6)\n",
      "Requirement already satisfied: soupsieve>1.2 in c:\\users\\timpr\\allcode\\energy-timeseries-project\\.venv\\lib\\site-packages (from beautifulsoup4->htmllistparse<0.6.0,>=0.5.2->dwdweather2) (2.6)\n",
      "Requirement already satisfied: webencodings in c:\\users\\timpr\\allcode\\energy-timeseries-project\\.venv\\lib\\site-packages (from html5lib->htmllistparse<0.6.0,>=0.5.2->dwdweather2) (0.5.1)\n"
     ]
    },
    {
     "name": "stderr",
     "output_type": "stream",
     "text": [
      "WARNING: You are using pip version 21.2.3; however, version 24.3.1 is available.\n",
      "You should consider upgrading via the 'C:\\Users\\TimPr\\allcode\\energy-timeseries-project\\.venv\\Scripts\\python.exe -m pip install --upgrade pip' command.\n"
     ]
    }
   ],
   "source": [
    "!pip install dwdweather2\n"
   ]
  },
  {
   "cell_type": "code",
   "execution_count": 23,
   "metadata": {},
   "outputs": [
    {
     "name": "stderr",
     "output_type": "stream",
     "text": [
      "Station \"1987\" has no data for category \"daily_observations\"\n",
      "Station \"1987\" has no data for category \"daily_observations\"\n",
      "Station \"1987\" has no data for category \"air_temperature\"\n",
      "Station \"1987\" has no data for category \"air_temperature\"\n",
      "Station \"1987\" has no data for category \"cloud_type\"\n",
      "Station \"1987\" has no data for category \"cloud_type\"\n",
      "Station \"1987\" has no data for category \"cloudiness\"\n",
      "Station \"1987\" has no data for category \"cloudiness\"\n",
      "Station \"1987\" has no data for category \"dew_point\"\n",
      "Station \"1987\" has no data for category \"dew_point\"\n",
      "Station \"1987\" has no data for category \"extreme_temperature\"\n",
      "Station \"1987\" has no data for category \"extreme_temperature\"\n",
      "Station \"1987\" has no data for category \"extreme_wind\"\n",
      "Station \"1987\" has no data for category \"extreme_wind\"\n",
      "Station \"1987\" has no data for category \"precipitation\"\n",
      "Station \"1987\" has no data for category \"precipitation\"\n",
      "Station \"1987\" has no data for category \"pressure\"\n",
      "Station \"1987\" has no data for category \"pressure\"\n",
      "Station \"1987\" has no data for category \"soil_temperature\"\n",
      "100%|█████████████████████████████████| 20126/20126 [00:01<00:00, 15928.43it/s]\n",
      "Station \"1987\" has no data for category \"solar\"\n",
      "Station \"1987\" has no data for category \"sun\"\n",
      "100%|█████████████████████████████████| 15842/15842 [00:01<00:00, 14160.13it/s]\n",
      "Station \"1987\" has no data for category \"visibility\"\n",
      "Station \"1987\" has no data for category \"visibility\"\n",
      "Station \"1987\" has no data for category \"wind\"\n",
      "100%|███████████████████████████████| 241108/241108 [00:17<00:00, 13679.24it/s]\n",
      "Station \"1987\" has no data for category \"wind_synop\"\n",
      "Station \"1987\" has no data for category \"wind_synop\"\n",
      "Station \"1987\" has no data for category \"daily_observations\"\n",
      "Station \"1987\" has no data for category \"daily_observations\"\n",
      "Station \"1987\" has no data for category \"air_temperature\"\n",
      "Station \"1987\" has no data for category \"air_temperature\"\n",
      "Station \"1987\" has no data for category \"cloud_type\"\n",
      "Station \"1987\" has no data for category \"cloud_type\"\n",
      "Station \"1987\" has no data for category \"cloudiness\"\n",
      "Station \"1987\" has no data for category \"cloudiness\"\n",
      "Station \"1987\" has no data for category \"dew_point\"\n",
      "Station \"1987\" has no data for category \"dew_point\"\n",
      "Station \"1987\" has no data for category \"extreme_temperature\"\n",
      "Station \"1987\" has no data for category \"extreme_temperature\"\n",
      "Station \"1987\" has no data for category \"extreme_wind\"\n",
      "Station \"1987\" has no data for category \"extreme_wind\"\n",
      "Station \"1987\" has no data for category \"precipitation\"\n",
      "Station \"1987\" has no data for category \"precipitation\"\n",
      "Station \"1987\" has no data for category \"pressure\"\n",
      "Station \"1987\" has no data for category \"pressure\"\n",
      "Station \"1987\" has no data for category \"soil_temperature\"\n",
      "100%|█████████████████████████████████| 20126/20126 [00:01<00:00, 14301.90it/s]\n",
      "Station \"1987\" has no data for category \"solar\"\n",
      "Station \"1987\" has no data for category \"sun\"\n",
      "100%|█████████████████████████████████| 15842/15842 [00:01<00:00, 13845.97it/s]\n",
      "Station \"1987\" has no data for category \"visibility\"\n",
      "Station \"1987\" has no data for category \"visibility\"\n",
      "Station \"1987\" has no data for category \"wind\"\n",
      "100%|███████████████████████████████| 241108/241108 [00:17<00:00, 13700.84it/s]\n",
      "Station \"1987\" has no data for category \"wind_synop\"\n",
      "Station \"1987\" has no data for category \"wind_synop\"\n"
     ]
    },
    {
     "name": "stdout",
     "output_type": "stream",
     "text": [
      "None\n"
     ]
    }
   ],
   "source": [
    "from datetime import datetime\n",
    "from dwdweather import DwdWeather\n",
    "\n",
    "# Create client object.\n",
    "dwd = DwdWeather()\n",
    "\n",
    "# Find closest station to position (you can specify coordinates for Hamburg, here used as example).\n",
    "closest = dwd.nearest_station(lon=9.9937, lat=53.5511)  # Coordinates for Hamburg\n",
    "\n",
    "# The hour you're interested in.\n",
    "query_hour = datetime(2024, 1, 18, 12)  # Example: January 18, 2024, 12:00\n",
    "\n",
    "# Fetch data for the specified station and timestamp.\n",
    "try:\n",
    "    result = dwd.query(station_id=closest[\"station_id\"], timestamp=query_hour)\n",
    "    print(result)  # Print the fetched data\n",
    "\n",
    "except Exception as e:\n",
    "    print(f\"Failed to fetch data: {e}\")\n"
   ]
  }
 ],
 "metadata": {
  "kernelspec": {
   "display_name": ".venv",
   "language": "python",
   "name": "python3"
  },
  "language_info": {
   "codemirror_mode": {
    "name": "ipython",
    "version": 3
   },
   "file_extension": ".py",
   "mimetype": "text/x-python",
   "name": "python",
   "nbconvert_exporter": "python",
   "pygments_lexer": "ipython3",
   "version": "3.10.0"
  }
 },
 "nbformat": 4,
 "nbformat_minor": 2
}
