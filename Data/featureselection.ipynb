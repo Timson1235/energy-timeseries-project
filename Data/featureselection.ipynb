{
 "cells": [
  {
   "cell_type": "code",
   "execution_count": 30,
   "metadata": {},
   "outputs": [],
   "source": [
    "import pandas as pd\n",
    "from sklearn.ensemble import RandomForestRegressor\n",
    "from sklearn.preprocessing import OneHotEncoder\n",
    "from scipy.sparse import hstack\n",
    "\n"
   ]
  },
  {
   "cell_type": "code",
   "execution_count": 11,
   "metadata": {},
   "outputs": [],
   "source": [
    "df = pd.read_csv('merged_cleaned.csv',\n",
    "                 index_col= [0],\n",
    "                 parse_dates= [0])"
   ]
  },
  {
   "cell_type": "code",
   "execution_count": 19,
   "metadata": {},
   "outputs": [
    {
     "data": {
      "text/plain": [
       "array(['Not a Holiday', 'Christmas Day', 'Second Christmas Day',\n",
       "       'New year', 'Good Friday', 'Easter Monday', 'Labour Day',\n",
       "       'Ascension Thursday', 'Whit Monday', 'Day of German Unity'],\n",
       "      dtype=object)"
      ]
     },
     "execution_count": 19,
     "metadata": {},
     "output_type": "execute_result"
    }
   ],
   "source": [
    "df.Holiday.unique()"
   ]
  },
  {
   "cell_type": "code",
   "execution_count": 36,
   "metadata": {},
   "outputs": [],
   "source": [
    "categorical_columns = df.select_dtypes(include=['object', 'category']).columns\n",
    "numerical_columns = df.select_dtypes(include=['number']).columns.drop('Gesamt (Netzlast) [MWh] Berechnete Auflösungen')\n",
    "\n",
    "X = df.drop('Gesamt (Netzlast) [MWh] Berechnete Auflösungen', axis=1)\n",
    "y = df['Gesamt (Netzlast) [MWh] Berechnete Auflösungen']\n",
    "\n",
    "# Separate categorical and numerical features\n",
    "X_categorical = X[categorical_columns]\n",
    "X_numerical = X[numerical_columns]"
   ]
  },
  {
   "cell_type": "code",
   "execution_count": null,
   "metadata": {},
   "outputs": [],
   "source": [
    "# Use OneHotEncoder with sparse output\n",
    "encoder = OneHotEncoder(sparse_output=True, drop='first')\n",
    "X_categorical_encoded = encoder.fit_transform(X_categorical)\n",
    "\n",
    "# Combine numerical and sparse categorical features\n",
    "X_encoded = hstack([X_numerical, X_categorical_encoded], format='csr')"
   ]
  },
  {
   "cell_type": "code",
   "execution_count": null,
   "metadata": {},
   "outputs": [
    {
     "ename": "AttributeError",
     "evalue": "'csr_matrix' object has no attribute 'columns'",
     "output_type": "error",
     "traceback": [
      "\u001b[1;31m---------------------------------------------------------------------------\u001b[0m",
      "\u001b[1;31mAttributeError\u001b[0m                            Traceback (most recent call last)",
      "Cell \u001b[1;32mIn[38], line 9\u001b[0m\n\u001b[0;32m      6\u001b[0m importances \u001b[38;5;241m=\u001b[39m model\u001b[38;5;241m.\u001b[39mfeature_importances_\n\u001b[0;32m      8\u001b[0m \u001b[38;5;66;03m# Create a DataFrame for better visualization\u001b[39;00m\n\u001b[1;32m----> 9\u001b[0m feature_importances \u001b[38;5;241m=\u001b[39m pd\u001b[38;5;241m.\u001b[39mDataFrame({\u001b[38;5;124m'\u001b[39m\u001b[38;5;124mFeature\u001b[39m\u001b[38;5;124m'\u001b[39m: \u001b[43mX_encoded\u001b[49m\u001b[38;5;241;43m.\u001b[39;49m\u001b[43mcolumns\u001b[49m, \u001b[38;5;124m'\u001b[39m\u001b[38;5;124mImportance\u001b[39m\u001b[38;5;124m'\u001b[39m: importances})\n\u001b[0;32m     11\u001b[0m \u001b[38;5;66;03m# Set a threshold for feature importance\u001b[39;00m\n\u001b[0;32m     12\u001b[0m threshold \u001b[38;5;241m=\u001b[39m \u001b[38;5;241m0.01\u001b[39m\n",
      "\u001b[1;31mAttributeError\u001b[0m: 'csr_matrix' object has no attribute 'columns'"
     ]
    }
   ],
   "source": [
    "# Train the model\n",
    "model = RandomForestRegressor(random_state=42)\n",
    "model.fit(X_encoded, y)\n",
    "\n"
   ]
  },
  {
   "cell_type": "code",
   "execution_count": 42,
   "metadata": {},
   "outputs": [],
   "source": [
    "# Retrieve feature names from OneHotEncoder and numerical columns\n",
    "categorical_feature_names = encoder.get_feature_names_out(categorical_columns)\n",
    "feature_names = list(numerical_columns) + list(categorical_feature_names)\n",
    "\n",
    "# Get feature importances\n",
    "importances = model.feature_importances_\n",
    "\n",
    "# Create a DataFrame for better visualization\n",
    "feature_importances = pd.DataFrame({'Feature': feature_names, 'Importance': importances})"
   ]
  },
  {
   "cell_type": "code",
   "execution_count": 45,
   "metadata": {},
   "outputs": [
    {
     "name": "stdout",
     "output_type": "stream",
     "text": [
      "                                                 Feature  Importance\n",
      "13                                                  hour    0.406127\n",
      "28                                         dayofyear_cos    0.086600\n",
      "14                                             dayofweek    0.086155\n",
      "23                                         dayofweek_sin    0.066129\n",
      "29                                            is_workday    0.065101\n",
      "22                                              hour_cos    0.050592\n",
      "20                                           date_offset    0.039825\n",
      "18                                             dayofyear    0.029823\n",
      "7               Kernenergie [MWh] Berechnete Auflösungen    0.028442\n",
      "9                Steinkohle [MWh] Berechnete Auflösungen    0.024078\n",
      "36                                 Holiday_Not a Holiday    0.023036\n",
      "21                                              hour_sin    0.018790\n",
      "4              Wind Onshore [MWh] Berechnete Auflösungen    0.010746\n",
      "6      Sonstige Erneuerbare [MWh] Berechnete Auflösungen    0.009423\n",
      "17                                                  year    0.008484\n",
      "10                   Erdgas [MWh] Berechnete Auflösungen    0.006064\n",
      "52618                                    day_name_Sunday    0.004443\n",
      "0      Deutschland/Luxemburg [€/MWh] Originalauflösungen    0.004114\n",
      "8                Braunkohle [MWh] Berechnete Auflösungen    0.003269\n",
      "27                                         dayofyear_sin    0.003257\n",
      "3             Wind Offshore [MWh] Berechnete Auflösungen    0.003188\n",
      "5              Photovoltaik [MWh] Berechnete Auflösungen    0.002490\n",
      "24                                         dayofweek_cos    0.002372\n",
      "19                                            dayofmonth    0.002346\n",
      "12     Sonstige Konventionelle [MWh] Berechnete Auflö...    0.002335\n",
      "1                  Biomasse [MWh] Berechnete Auflösungen    0.002191\n",
      "2               Wasserkraft [MWh] Berechnete Auflösungen    0.001897\n",
      "11           Pumpspeicher [MWh] Berechnete Auflösungen_y    0.001750\n",
      "52617                                  day_name_Saturday    0.001585\n",
      "35                                      Holiday_New year    0.001413\n",
      "52616                                    day_name_Monday    0.000839\n",
      "26                                             month_cos    0.000379\n",
      "25                                             month_sin    0.000360\n",
      "16                                                 month    0.000233\n",
      "15                                               quarter    0.000103\n",
      "52619                                  day_name_Thursday    0.000093\n",
      "52620                                   day_name_Tuesday    0.000052\n",
      "52621                                 day_name_Wednesday    0.000044\n",
      "33                                   Holiday_Good Friday    0.000029\n",
      "31793                           date_2022-06-16 07:00:00    0.000023\n",
      "5589                            date_2019-06-20 08:00:00    0.000016\n",
      "5597                            date_2019-06-20 16:00:00    0.000015\n",
      "5588                            date_2019-06-20 07:00:00    0.000014\n",
      "31794                           date_2022-06-16 08:00:00    0.000013\n",
      "31792                           date_2022-06-16 06:00:00    0.000012\n",
      "35081                           date_2022-10-31 07:00:00    0.000012\n",
      "52480                           date_2024-10-25 08:00:00    0.000012\n",
      "40360                           date_2023-06-08 07:00:00    0.000012\n",
      "31795                           date_2022-06-16 09:00:00    0.000011\n",
      "40359                           date_2023-06-08 06:00:00    0.000009\n"
     ]
    }
   ],
   "source": [
    "feature_importances = feature_importances.sort_values(by='Importance', ascending=False)\n",
    "print(feature_importances.head(50))  # Top 10 most important features\n"
   ]
  },
  {
   "cell_type": "code",
   "execution_count": 46,
   "metadata": {},
   "outputs": [
    {
     "name": "stdout",
     "output_type": "stream",
     "text": [
      "Number of selected features: 13\n"
     ]
    }
   ],
   "source": [
    "threshold = 0.01  # Example threshold\n",
    "selected_features = feature_importances[feature_importances['Importance'] > threshold]['Feature']\n",
    "print(f\"Number of selected features: {len(selected_features)}\")\n"
   ]
  },
  {
   "cell_type": "code",
   "execution_count": 47,
   "metadata": {},
   "outputs": [],
   "source": [
    "selected_feature_indices = feature_importances[feature_importances['Importance'] > threshold].index\n",
    "X_selected = X_encoded[:, selected_feature_indices]  # Keeps only important features\n"
   ]
  },
  {
   "cell_type": "code",
   "execution_count": 49,
   "metadata": {},
   "outputs": [
    {
     "name": "stdout",
     "output_type": "stream",
     "text": [
      "Filtered dataset saved as 'selected_features.csv'.\n"
     ]
    }
   ],
   "source": [
    "# Convert sparse matrix to a dense DataFrame with selected feature names\n",
    "X_selected_dense = pd.DataFrame(X_selected.toarray(), columns=selected_features)\n",
    "\n",
    "# Combine the features and target variable\n",
    "filtered_dataset = pd.concat([X_selected_dense, y.reset_index(drop=True)], axis=1)\n",
    "\n",
    "# Save to CSV\n",
    "filtered_dataset.to_csv('selected_features.csv', index=False)\n",
    "print(\"Filtered dataset saved as 'selected_features.csv'.\")"
   ]
  }
 ],
 "metadata": {
  "kernelspec": {
   "display_name": "Python 3",
   "language": "python",
   "name": "python3"
  },
  "language_info": {
   "codemirror_mode": {
    "name": "ipython",
    "version": 3
   },
   "file_extension": ".py",
   "mimetype": "text/x-python",
   "name": "python",
   "nbconvert_exporter": "python",
   "pygments_lexer": "ipython3",
   "version": "3.10.0"
  }
 },
 "nbformat": 4,
 "nbformat_minor": 2
}
