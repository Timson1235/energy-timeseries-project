{
 "cells": [
  {
   "cell_type": "code",
   "execution_count": 1,
   "metadata": {},
   "outputs": [
    {
     "name": "stdout",
     "output_type": "stream",
     "text": [
      "Collecting entsoe-py\n",
      "  Downloading entsoe_py-0.6.16-py3-none-any.whl.metadata (10 kB)\n",
      "Collecting requests (from entsoe-py)\n",
      "  Using cached requests-2.32.3-py3-none-any.whl.metadata (4.6 kB)\n",
      "Requirement already satisfied: pytz in c:\\users\\timpr\\all_code\\.venv\\lib\\site-packages (from entsoe-py) (2024.2)\n",
      "Collecting beautifulsoup4>=4.11.1 (from entsoe-py)\n",
      "  Using cached beautifulsoup4-4.12.3-py3-none-any.whl.metadata (3.8 kB)\n",
      "Requirement already satisfied: pandas>=2.2.0 in c:\\users\\timpr\\all_code\\.venv\\lib\\site-packages (from entsoe-py) (2.2.3)\n",
      "Collecting soupsieve>1.2 (from beautifulsoup4>=4.11.1->entsoe-py)\n",
      "  Downloading soupsieve-2.6-py3-none-any.whl.metadata (4.6 kB)\n",
      "Requirement already satisfied: numpy>=1.26.0 in c:\\users\\timpr\\all_code\\.venv\\lib\\site-packages (from pandas>=2.2.0->entsoe-py) (2.1.3)\n",
      "Requirement already satisfied: python-dateutil>=2.8.2 in c:\\users\\timpr\\all_code\\.venv\\lib\\site-packages (from pandas>=2.2.0->entsoe-py) (2.9.0.post0)\n",
      "Requirement already satisfied: tzdata>=2022.7 in c:\\users\\timpr\\all_code\\.venv\\lib\\site-packages (from pandas>=2.2.0->entsoe-py) (2024.2)\n",
      "Collecting charset-normalizer<4,>=2 (from requests->entsoe-py)\n",
      "  Downloading charset_normalizer-3.4.0-cp312-cp312-win_amd64.whl.metadata (34 kB)\n",
      "Collecting idna<4,>=2.5 (from requests->entsoe-py)\n",
      "  Downloading idna-3.10-py3-none-any.whl.metadata (10 kB)\n",
      "Collecting urllib3<3,>=1.21.1 (from requests->entsoe-py)\n",
      "  Downloading urllib3-2.2.3-py3-none-any.whl.metadata (6.5 kB)\n",
      "Collecting certifi>=2017.4.17 (from requests->entsoe-py)\n",
      "  Downloading certifi-2024.8.30-py3-none-any.whl.metadata (2.2 kB)\n",
      "Requirement already satisfied: six>=1.5 in c:\\users\\timpr\\all_code\\.venv\\lib\\site-packages (from python-dateutil>=2.8.2->pandas>=2.2.0->entsoe-py) (1.16.0)\n",
      "Downloading entsoe_py-0.6.16-py3-none-any.whl (1.6 MB)\n",
      "   ---------------------------------------- 0.0/1.6 MB ? eta -:--:--\n",
      "   ------------------------- -------------- 1.0/1.6 MB 25.4 MB/s eta 0:00:01\n",
      "   ------------------------- -------------- 1.0/1.6 MB 25.4 MB/s eta 0:00:01\n",
      "   ------------------------- -------------- 1.0/1.6 MB 25.4 MB/s eta 0:00:01\n",
      "   ------------------------- -------------- 1.0/1.6 MB 25.4 MB/s eta 0:00:01\n",
      "   ------------------------- -------------- 1.0/1.6 MB 25.4 MB/s eta 0:00:01\n",
      "   ------------------------- -------------- 1.0/1.6 MB 25.4 MB/s eta 0:00:01\n",
      "   ------------------------- -------------- 1.0/1.6 MB 25.4 MB/s eta 0:00:01\n",
      "   -------------------------------- ------- 1.3/1.6 MB 684.9 kB/s eta 0:00:01\n",
      "   -------------------------------- ------- 1.3/1.6 MB 684.9 kB/s eta 0:00:01\n",
      "   -------------------------------- ------- 1.3/1.6 MB 684.9 kB/s eta 0:00:01\n",
      "   -------------------------------- ------- 1.3/1.6 MB 684.9 kB/s eta 0:00:01\n",
      "   -------------------------------- ------- 1.3/1.6 MB 684.9 kB/s eta 0:00:01\n",
      "   -------------------------------- ------- 1.3/1.6 MB 684.9 kB/s eta 0:00:01\n",
      "   -------------------------------- ------- 1.3/1.6 MB 684.9 kB/s eta 0:00:01\n",
      "   -------------------------------------- - 1.6/1.6 MB 417.4 kB/s eta 0:00:01\n",
      "   ---------------------------------------- 1.6/1.6 MB 404.6 kB/s eta 0:00:00\n",
      "Using cached beautifulsoup4-4.12.3-py3-none-any.whl (147 kB)\n",
      "Using cached requests-2.32.3-py3-none-any.whl (64 kB)\n",
      "Downloading certifi-2024.8.30-py3-none-any.whl (167 kB)\n",
      "Downloading charset_normalizer-3.4.0-cp312-cp312-win_amd64.whl (102 kB)\n",
      "Downloading idna-3.10-py3-none-any.whl (70 kB)\n",
      "Downloading soupsieve-2.6-py3-none-any.whl (36 kB)\n",
      "Downloading urllib3-2.2.3-py3-none-any.whl (126 kB)\n",
      "Installing collected packages: urllib3, soupsieve, idna, charset-normalizer, certifi, requests, beautifulsoup4, entsoe-py\n",
      "Successfully installed beautifulsoup4-4.12.3 certifi-2024.8.30 charset-normalizer-3.4.0 entsoe-py-0.6.16 idna-3.10 requests-2.32.3 soupsieve-2.6 urllib3-2.2.3\n",
      "Note: you may need to restart the kernel to use updated packages.\n"
     ]
    }
   ],
   "source": [
    "%pip install entsoe-py\n"
   ]
  },
  {
   "cell_type": "code",
   "execution_count": 9,
   "metadata": {},
   "outputs": [
    {
     "ename": "AttributeError",
     "evalue": "'str' object has no attribute 'head'",
     "output_type": "error",
     "traceback": [
      "\u001b[1;31m---------------------------------------------------------------------------\u001b[0m",
      "\u001b[1;31mAttributeError\u001b[0m                            Traceback (most recent call last)",
      "Cell \u001b[1;32mIn[9], line 25\u001b[0m\n\u001b[0;32m     21\u001b[0m day_ahead_prices \u001b[38;5;241m=\u001b[39m client\u001b[38;5;241m.\u001b[39mquery_day_ahead_prices(country_code, start, end)\n\u001b[0;32m     23\u001b[0m \u001b[38;5;66;03m# Convert the results into a DataFrame (you can process the data as needed)\u001b[39;00m\n\u001b[0;32m     24\u001b[0m \u001b[38;5;66;03m# The client returns the data as a Pandas DataFrame\u001b[39;00m\n\u001b[1;32m---> 25\u001b[0m \u001b[38;5;28mprint\u001b[39m(\u001b[43mday_ahead_prices\u001b[49m\u001b[38;5;241;43m.\u001b[39;49m\u001b[43mhead\u001b[49m())  \u001b[38;5;66;03m# Print the first few rows to see the data\u001b[39;00m\n",
      "\u001b[1;31mAttributeError\u001b[0m: 'str' object has no attribute 'head'"
     ]
    }
   ],
   "source": [
    "from entsoe import EntsoeRawClient\n",
    "import pandas as pd\n",
    "from datetime import datetime, timedelta\n",
    "from dateutil import tz  # Using dateutil to handle timezones\n",
    "\n",
    "# Initialize the ENTSO-E API client with your API key\n",
    "client = EntsoeRawClient(api_key=\"805ad535-dc0a-4e0d-8963-46ddf8110bba\")\n",
    "\n",
    "start_date_str = '2024-11-01'  # Customize the start date\n",
    "end_date_str = '2024-11-07'    # Customize the end date\n",
    "\n",
    "# Use dateutil to convert to the correct timezone\n",
    "brussels_tz = tz.gettz('Europe/Brussels')\n",
    "\n",
    "# Format the dates in a pandas timestamp format with the correct timezone\n",
    "start = pd.Timestamp(start_date_str).tz_localize(brussels_tz)\n",
    "end = pd.Timestamp(end_date_str).tz_localize(brussels_tz)\n",
    "\n",
    "# Query day-ahead prices for Germany (Germany's bidding zone is DE_LU)\n",
    "country_code = 'DE_LU'  # Germany-Luxembourg\n",
    "day_ahead_prices = client.query_day_ahead_prices(country_code, start, end)\n",
    "\n",
    "# Convert the results into a DataFrame (you can process the data as needed)\n",
    "# The client returns the data as a Pandas DataFrame\n",
    "print(day_ahead_prices.head())  # Print the first few rows to see the data\n"
   ]
  }
 ],
 "metadata": {
  "kernelspec": {
   "display_name": ".venv",
   "language": "python",
   "name": "python3"
  },
  "language_info": {
   "codemirror_mode": {
    "name": "ipython",
    "version": 3
   },
   "file_extension": ".py",
   "mimetype": "text/x-python",
   "name": "python",
   "nbconvert_exporter": "python",
   "pygments_lexer": "ipython3",
   "version": "3.12.4"
  }
 },
 "nbformat": 4,
 "nbformat_minor": 2
}
