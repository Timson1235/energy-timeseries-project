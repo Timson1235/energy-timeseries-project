{
 "cells": [
  {
   "cell_type": "markdown",
   "metadata": {},
   "source": [
    "# Baseline Model\n",
    "\n",
    "## Table of Contents\n",
    "1. [Model Choice](#model-choice)\n",
    "2. [Feature Selection](#feature-selection)\n",
    "3. [Implementation](#implementation)\n",
    "4. [Evaluation](#evaluation)\n"
   ]
  },
  {
   "cell_type": "code",
   "execution_count": 2,
   "metadata": {},
   "outputs": [],
   "source": [
    "# Import necessary libraries\n",
    "import pandas as pd\n",
    "import numpy as np\n",
    "from sklearn.model_selection import train_test_split\n",
    "from sklearn.metrics import accuracy_score, mean_squared_error, mean_absolute_percentage_error, mean_absolute_error\n",
    "# Import your chosen baseline model\n",
    "# Example: from sklearn.linear_model import LogisticRegression\n"
   ]
  },
  {
   "cell_type": "markdown",
   "metadata": {},
   "source": [
    "## Model Choice\n",
    "\n",
    "We started out with a very easy baeline model that just guesses the forecast of the next 15 Minutes based on the last 15 minutes\n"
   ]
  },
  {
   "cell_type": "code",
   "execution_count": 3,
   "metadata": {},
   "outputs": [
    {
     "data": {
      "text/html": [
       "<div>\n",
       "<style scoped>\n",
       "    .dataframe tbody tr th:only-of-type {\n",
       "        vertical-align: middle;\n",
       "    }\n",
       "\n",
       "    .dataframe tbody tr th {\n",
       "        vertical-align: top;\n",
       "    }\n",
       "\n",
       "    .dataframe thead th {\n",
       "        text-align: right;\n",
       "    }\n",
       "</style>\n",
       "<table border=\"1\" class=\"dataframe\">\n",
       "  <thead>\n",
       "    <tr style=\"text-align: right;\">\n",
       "      <th></th>\n",
       "      <th>Unnamed: 0</th>\n",
       "      <th>from</th>\n",
       "      <th>to</th>\n",
       "      <th>load</th>\n",
       "      <th>residual</th>\n",
       "      <th>pumped</th>\n",
       "      <th>time</th>\n",
       "      <th>month</th>\n",
       "      <th>weekday</th>\n",
       "      <th>hour</th>\n",
       "    </tr>\n",
       "  </thead>\n",
       "  <tbody>\n",
       "    <tr>\n",
       "      <th>0</th>\n",
       "      <td>0</td>\n",
       "      <td>01.11.2018 00:00</td>\n",
       "      <td>01.11.2018 01:00</td>\n",
       "      <td>48879.50</td>\n",
       "      <td>34530.00</td>\n",
       "      <td>3295,75</td>\n",
       "      <td>2018-11-01 00:00:00</td>\n",
       "      <td>11</td>\n",
       "      <td>3</td>\n",
       "      <td>0</td>\n",
       "    </tr>\n",
       "    <tr>\n",
       "      <th>1</th>\n",
       "      <td>1</td>\n",
       "      <td>01.11.2018 01:00</td>\n",
       "      <td>01.11.2018 02:00</td>\n",
       "      <td>47312.50</td>\n",
       "      <td>33605.50</td>\n",
       "      <td>3848,00</td>\n",
       "      <td>2018-11-01 01:00:00</td>\n",
       "      <td>11</td>\n",
       "      <td>3</td>\n",
       "      <td>1</td>\n",
       "    </tr>\n",
       "    <tr>\n",
       "      <th>2</th>\n",
       "      <td>2</td>\n",
       "      <td>01.11.2018 02:00</td>\n",
       "      <td>01.11.2018 03:00</td>\n",
       "      <td>46093.75</td>\n",
       "      <td>32232.00</td>\n",
       "      <td>4452,25</td>\n",
       "      <td>2018-11-01 02:00:00</td>\n",
       "      <td>11</td>\n",
       "      <td>3</td>\n",
       "      <td>2</td>\n",
       "    </tr>\n",
       "    <tr>\n",
       "      <th>3</th>\n",
       "      <td>3</td>\n",
       "      <td>01.11.2018 03:00</td>\n",
       "      <td>01.11.2018 04:00</td>\n",
       "      <td>46710.50</td>\n",
       "      <td>33261.75</td>\n",
       "      <td>4855,75</td>\n",
       "      <td>2018-11-01 03:00:00</td>\n",
       "      <td>11</td>\n",
       "      <td>3</td>\n",
       "      <td>3</td>\n",
       "    </tr>\n",
       "    <tr>\n",
       "      <th>4</th>\n",
       "      <td>4</td>\n",
       "      <td>01.11.2018 04:00</td>\n",
       "      <td>01.11.2018 05:00</td>\n",
       "      <td>47624.25</td>\n",
       "      <td>33987.75</td>\n",
       "      <td>3854,50</td>\n",
       "      <td>2018-11-01 04:00:00</td>\n",
       "      <td>11</td>\n",
       "      <td>3</td>\n",
       "      <td>4</td>\n",
       "    </tr>\n",
       "  </tbody>\n",
       "</table>\n",
       "</div>"
      ],
      "text/plain": [
       "   Unnamed: 0              from                to      load  residual  \\\n",
       "0           0  01.11.2018 00:00  01.11.2018 01:00  48879.50  34530.00   \n",
       "1           1  01.11.2018 01:00  01.11.2018 02:00  47312.50  33605.50   \n",
       "2           2  01.11.2018 02:00  01.11.2018 03:00  46093.75  32232.00   \n",
       "3           3  01.11.2018 03:00  01.11.2018 04:00  46710.50  33261.75   \n",
       "4           4  01.11.2018 04:00  01.11.2018 05:00  47624.25  33987.75   \n",
       "\n",
       "    pumped                 time  month  weekday  hour  \n",
       "0  3295,75  2018-11-01 00:00:00     11        3     0  \n",
       "1  3848,00  2018-11-01 01:00:00     11        3     1  \n",
       "2  4452,25  2018-11-01 02:00:00     11        3     2  \n",
       "3  4855,75  2018-11-01 03:00:00     11        3     3  \n",
       "4  3854,50  2018-11-01 04:00:00     11        3     4  "
      ]
     },
     "execution_count": 3,
     "metadata": {},
     "output_type": "execute_result"
    }
   ],
   "source": [
    "# Load the dataset\n",
    "# Replace 'your_dataset.csv' with the path to your actual dataset\n",
    "df = pd.read_csv('../Data/Load_cleaned.csv')\n",
    "df.head()"
   ]
  },
  {
   "cell_type": "markdown",
   "metadata": {},
   "source": [
    "## Implementation\n",
    "\n",
    "Split the data and start the naive forecast model\n"
   ]
  },
  {
   "cell_type": "code",
   "execution_count": 4,
   "metadata": {},
   "outputs": [
    {
     "name": "stderr",
     "output_type": "stream",
     "text": [
      "C:\\Users\\TimPr\\AppData\\Local\\Temp\\ipykernel_30584\\3769960065.py:9: SettingWithCopyWarning: \n",
      "A value is trying to be set on a copy of a slice from a DataFrame.\n",
      "Try using .loc[row_indexer,col_indexer] = value instead\n",
      "\n",
      "See the caveats in the documentation: https://pandas.pydata.org/pandas-docs/stable/user_guide/indexing.html#returning-a-view-versus-a-copy\n",
      "  test['Naive_Forecast'] = train['load'].iloc[-1]  # Initialize with the last training Actual Total Load [MW] - BZN|DE-LU\n",
      "C:\\Users\\TimPr\\AppData\\Local\\Temp\\ipykernel_30584\\3769960065.py:12: SettingWithCopyWarning: \n",
      "A value is trying to be set on a copy of a slice from a DataFrame.\n",
      "Try using .loc[row_indexer,col_indexer] = value instead\n",
      "\n",
      "See the caveats in the documentation: https://pandas.pydata.org/pandas-docs/stable/user_guide/indexing.html#returning-a-view-versus-a-copy\n",
      "  test['Naive_Forecast'] = test['load'].shift(1)\n"
     ]
    }
   ],
   "source": [
    "# Determine the split index based on 80% training and 20% test\n",
    "split_index = int(len(df) * 0.8)\n",
    "\n",
    "# Split the data into train and test sets\n",
    "train, test = df.iloc[:split_index], df.iloc[split_index:]\n",
    "\n",
    "# Implement the naive forecast on the test set\n",
    "# The naive forecast is simply the last known value from the training set for each point in the test set\n",
    "test['Naive_Forecast'] = train['load'].iloc[-1]  # Initialize with the last training Actual Total Load [MW] - BZN|DE-LU\n",
    "\n",
    "# Shift by one row within the test set to create the naive forecast (t-1)\n",
    "test['Naive_Forecast'] = test['load'].shift(1)\n",
    "\n",
    "# Drop the first row in the test set since it will have NaN for the naive forecast\n",
    "test = test.dropna().reset_index(drop=True)"
   ]
  },
  {
   "cell_type": "markdown",
   "metadata": {},
   "source": [
    "## Evaluation\n",
    "\n",
    "[Clearly state what metrics you will use to evaluate the model's performance. These metrics will serve as a starting point for evaluating more complex models later on.]\n",
    "\n"
   ]
  },
  {
   "cell_type": "code",
   "execution_count": 5,
   "metadata": {},
   "outputs": [
    {
     "name": "stdout",
     "output_type": "stream",
     "text": [
      "Mean absolut percentage Error (Naive Forecast on Test Set): 1810.9754300921966\n"
     ]
    }
   ],
   "source": [
    "# Calculate MSE for the naive forecast on the test set\n",
    "mape_naive_test = mean_absolute_error(test['load'], test['Naive_Forecast'])\n",
    "\n",
    "print(\"Mean absolut percentage Error (Naive Forecast on Test Set):\", mape_naive_test)\n"
   ]
  }
 ],
 "metadata": {
  "kernelspec": {
   "display_name": "Python 3",
   "language": "python",
   "name": "python3"
  },
  "language_info": {
   "codemirror_mode": {
    "name": "ipython",
    "version": 3
   },
   "file_extension": ".py",
   "mimetype": "text/x-python",
   "name": "python",
   "nbconvert_exporter": "python",
   "pygments_lexer": "ipython3",
   "version": "3.10.0"
  }
 },
 "nbformat": 4,
 "nbformat_minor": 2
}
