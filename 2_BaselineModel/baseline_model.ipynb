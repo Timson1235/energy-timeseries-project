{
 "cells": [
  {
   "cell_type": "markdown",
   "metadata": {},
   "source": [
    "# Baseline Model\n",
    "\n",
    "## Table of Contents\n",
    "1. [Model Choice](#model-choice)\n",
    "2. [Feature Selection](#feature-selection)\n",
    "3. [Implementation](#implementation)\n",
    "4. [Evaluation](#evaluation)\n"
   ]
  },
  {
   "cell_type": "code",
   "execution_count": 12,
   "metadata": {},
   "outputs": [],
   "source": [
    "# Import necessary libraries\n",
    "import pandas as pd\n",
    "import numpy as np\n",
    "from sklearn.model_selection import train_test_split\n",
    "from sklearn.metrics import accuracy_score, mean_squared_error, mean_absolute_percentage_error\n",
    "# Import your chosen baseline model\n",
    "# Example: from sklearn.linear_model import LogisticRegression\n"
   ]
  },
  {
   "cell_type": "markdown",
   "metadata": {},
   "source": [
    "## Model Choice\n",
    "\n",
    "[Explain why you've chosen a particular model as the baseline. This could be a simple statistical model or a basic machine learning model. Justify your choice.]\n"
   ]
  },
  {
   "cell_type": "markdown",
   "metadata": {},
   "source": [
    "## Feature Selection\n",
    "\n",
    "[Indicate which features from the dataset you will be using for the baseline model, and justify your selection.]\n"
   ]
  },
  {
   "cell_type": "code",
   "execution_count": 13,
   "metadata": {},
   "outputs": [],
   "source": [
    "# Load the dataset\n",
    "# Replace 'your_dataset.csv' with the path to your actual dataset\n",
    "df = pd.read_csv('../Data/load_value_de_2019_2024.csv')\n"
   ]
  },
  {
   "cell_type": "code",
   "execution_count": 14,
   "metadata": {},
   "outputs": [],
   "source": [
    "\n",
    "# Feature selection\n",
    "# Example: Selecting only two features for a simple baseline model\n",
    "X = df[['DateUTC', 'day', 'month', 'year']]\n",
    "y = df['Value']\n",
    "\n",
    "# Splitting the dataset\n",
    "X_train, X_test, y_train, y_test = train_test_split(X, y, test_size=0.2, shuffle= False)\n"
   ]
  },
  {
   "cell_type": "markdown",
   "metadata": {},
   "source": [
    "## Implementation\n",
    "\n",
    "Let's start out with a naive forecast:\n"
   ]
  },
  {
   "cell_type": "code",
   "execution_count": 15,
   "metadata": {},
   "outputs": [
    {
     "name": "stderr",
     "output_type": "stream",
     "text": [
      "C:\\Users\\TimPr\\AppData\\Local\\Temp\\ipykernel_25732\\2561987674.py:9: SettingWithCopyWarning: \n",
      "A value is trying to be set on a copy of a slice from a DataFrame.\n",
      "Try using .loc[row_indexer,col_indexer] = value instead\n",
      "\n",
      "See the caveats in the documentation: https://pandas.pydata.org/pandas-docs/stable/user_guide/indexing.html#returning-a-view-versus-a-copy\n",
      "  test['Naive_Forecast'] = train['Value'].iloc[-1]  # Initialize with the last training value\n",
      "C:\\Users\\TimPr\\AppData\\Local\\Temp\\ipykernel_25732\\2561987674.py:12: SettingWithCopyWarning: \n",
      "A value is trying to be set on a copy of a slice from a DataFrame.\n",
      "Try using .loc[row_indexer,col_indexer] = value instead\n",
      "\n",
      "See the caveats in the documentation: https://pandas.pydata.org/pandas-docs/stable/user_guide/indexing.html#returning-a-view-versus-a-copy\n",
      "  test['Naive_Forecast'] = test['Value'].shift(1)\n"
     ]
    }
   ],
   "source": [
    "# Determine the split index based on 80% training and 20% test\n",
    "split_index = int(len(df) * 0.8)\n",
    "\n",
    "# Split the data into train and test sets\n",
    "train, test = df.iloc[:split_index], df.iloc[split_index:]\n",
    "\n",
    "# Implement the naive forecast on the test set\n",
    "# The naive forecast is simply the last known value from the training set for each point in the test set\n",
    "test['Naive_Forecast'] = train['Value'].iloc[-1]  # Initialize with the last training value\n",
    "\n",
    "# Shift by one row within the test set to create the naive forecast (t-1)\n",
    "test['Naive_Forecast'] = test['Value'].shift(1)\n",
    "\n",
    "# Drop the first row in the test set since it will have NaN for the naive forecast\n",
    "test = test.dropna().reset_index(drop=True)"
   ]
  },
  {
   "cell_type": "markdown",
   "metadata": {},
   "source": [
    "## Evaluation\n",
    "\n",
    "[Clearly state what metrics you will use to evaluate the model's performance. These metrics will serve as a starting point for evaluating more complex models later on.]\n",
    "\n"
   ]
  },
  {
   "cell_type": "code",
   "execution_count": 16,
   "metadata": {},
   "outputs": [
    {
     "name": "stdout",
     "output_type": "stream",
     "text": [
      "Mean absolut percentage Error (Naive Forecast on Test Set): 0.034527265372196816\n"
     ]
    }
   ],
   "source": [
    "# Calculate MSE for the naive forecast on the test set\n",
    "mape_naive_test = mean_absolute_percentage_error(test['Value'], test['Naive_Forecast'])\n",
    "\n",
    "print(\"Mean absolut percentage Error (Naive Forecast on Test Set):\", mape_naive_test)\n"
   ]
  }
 ],
 "metadata": {
  "kernelspec": {
   "display_name": "Python 3",
   "language": "python",
   "name": "python3"
  },
  "language_info": {
   "codemirror_mode": {
    "name": "ipython",
    "version": 3
   },
   "file_extension": ".py",
   "mimetype": "text/x-python",
   "name": "python",
   "nbconvert_exporter": "python",
   "pygments_lexer": "ipython3",
   "version": "3.12.4"
  }
 },
 "nbformat": 4,
 "nbformat_minor": 2
}
