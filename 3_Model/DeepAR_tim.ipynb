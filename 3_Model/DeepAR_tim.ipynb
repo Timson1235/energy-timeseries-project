{
 "cells": [
  {
   "cell_type": "code",
   "execution_count": 49,
   "metadata": {},
   "outputs": [
    {
     "name": "stdout",
     "output_type": "stream",
     "text": [
      "Collecting mxnet\n",
      "  Downloading mxnet-1.7.0.post2-py2.py3-none-win_amd64.whl.metadata (402 bytes)\n",
      "Collecting numpy<1.17.0,>=1.8.2 (from mxnet)\n",
      "  Downloading numpy-1.16.6.zip (5.1 MB)\n",
      "     ---------------------------------------- 0.0/5.1 MB ? eta -:--:--\n",
      "     ------------------ --------------------- 2.4/5.1 MB 12.3 MB/s eta 0:00:01\n",
      "     -------------------------------------- - 5.0/5.1 MB 13.1 MB/s eta 0:00:01\n",
      "     ---------------------------------------- 5.1/5.1 MB 12.5 MB/s eta 0:00:00\n",
      "  Preparing metadata (setup.py): started\n",
      "  Preparing metadata (setup.py): finished with status 'done'\n",
      "Collecting requests<2.19.0,>=2.18.4 (from mxnet)\n",
      "  Downloading requests-2.18.4-py2.py3-none-any.whl.metadata (50 kB)\n",
      "Collecting graphviz<0.9.0,>=0.8.1 (from mxnet)\n",
      "  Downloading graphviz-0.8.4-py2.py3-none-any.whl.metadata (6.4 kB)\n",
      "Requirement already satisfied: certifi>=2017.4.17 in c:\\users\\timpr\\appdata\\local\\programs\\python\\python310\\lib\\site-packages (from requests<2.19.0,>=2.18.4->mxnet) (2024.8.30)\n",
      "Collecting chardet<3.1.0,>=3.0.2 (from requests<2.19.0,>=2.18.4->mxnet)\n",
      "  Downloading chardet-3.0.4-py2.py3-none-any.whl.metadata (3.2 kB)\n",
      "Collecting idna<2.7,>=2.5 (from requests<2.19.0,>=2.18.4->mxnet)\n",
      "  Downloading idna-2.6-py2.py3-none-any.whl.metadata (8.9 kB)\n",
      "Collecting urllib3<1.23,>=1.21.1 (from requests<2.19.0,>=2.18.4->mxnet)\n",
      "  Downloading urllib3-1.22-py2.py3-none-any.whl.metadata (32 kB)\n",
      "Downloading mxnet-1.7.0.post2-py2.py3-none-win_amd64.whl (33.1 MB)\n",
      "   ---------------------------------------- 0.0/33.1 MB ? eta -:--:--\n",
      "   -- ------------------------------------- 2.4/33.1 MB 11.2 MB/s eta 0:00:03\n",
      "   ----- ---------------------------------- 4.7/33.1 MB 10.9 MB/s eta 0:00:03\n",
      "   -------- ------------------------------- 7.1/33.1 MB 10.9 MB/s eta 0:00:03\n",
      "   ----------- ---------------------------- 9.4/33.1 MB 11.1 MB/s eta 0:00:03\n",
      "   -------------- ------------------------- 12.3/33.1 MB 11.3 MB/s eta 0:00:02\n",
      "   ------------------ --------------------- 14.9/33.1 MB 11.5 MB/s eta 0:00:02\n",
      "   --------------------- ------------------ 17.6/33.1 MB 11.5 MB/s eta 0:00:02\n",
      "   ------------------------ --------------- 19.9/33.1 MB 11.6 MB/s eta 0:00:02\n",
      "   --------------------------- ------------ 22.5/33.1 MB 11.7 MB/s eta 0:00:01\n",
      "   ------------------------------ --------- 25.4/33.1 MB 11.8 MB/s eta 0:00:01\n",
      "   --------------------------------- ------ 28.0/33.1 MB 11.9 MB/s eta 0:00:01\n",
      "   ------------------------------------- -- 30.7/33.1 MB 11.9 MB/s eta 0:00:01\n",
      "   ---------------------------------------  33.0/33.1 MB 11.8 MB/s eta 0:00:01\n",
      "   ---------------------------------------- 33.1/33.1 MB 11.3 MB/s eta 0:00:00\n",
      "Downloading graphviz-0.8.4-py2.py3-none-any.whl (16 kB)\n",
      "Downloading requests-2.18.4-py2.py3-none-any.whl (88 kB)\n",
      "Downloading chardet-3.0.4-py2.py3-none-any.whl (133 kB)\n",
      "Downloading idna-2.6-py2.py3-none-any.whl (56 kB)\n",
      "Downloading urllib3-1.22-py2.py3-none-any.whl (132 kB)\n",
      "Building wheels for collected packages: numpy\n",
      "  Building wheel for numpy (setup.py): started\n",
      "  Building wheel for numpy (setup.py): finished with status 'error'\n",
      "  Running setup.py clean for numpy\n",
      "Failed to build numpy\n",
      "Note: you may need to restart the kernel to use updated packages.\n"
     ]
    },
    {
     "name": "stderr",
     "output_type": "stream",
     "text": [
      "  error: subprocess-exited-with-error\n",
      "  \n",
      "  × python setup.py bdist_wheel did not run successfully.\n",
      "  │ exit code: 1\n",
      "  ╰─> [17 lines of output]\n",
      "      Running from numpy source directory.\n",
      "      C:\\Users\\TimPr\\AppData\\Local\\Temp\\pip-install-v4u5bg9b\\numpy_175eb245dee94c0696ae7f12ea58f1a8\\numpy\\distutils\\misc_util.py:476: SyntaxWarning: \"is\" with a literal. Did you mean \"==\"?\n",
      "        return is_string(s) and ('*' in s or '?' is s)\n",
      "      Traceback (most recent call last):\n",
      "        File \"<string>\", line 2, in <module>\n",
      "        File \"<pip-setuptools-caller>\", line 34, in <module>\n",
      "        File \"C:\\Users\\TimPr\\AppData\\Local\\Temp\\pip-install-v4u5bg9b\\numpy_175eb245dee94c0696ae7f12ea58f1a8\\setup.py\", line 419, in <module>\n",
      "          setup_package()\n",
      "        File \"C:\\Users\\TimPr\\AppData\\Local\\Temp\\pip-install-v4u5bg9b\\numpy_175eb245dee94c0696ae7f12ea58f1a8\\setup.py\", line 398, in setup_package\n",
      "          from numpy.distutils.core import setup\n",
      "        File \"C:\\Users\\TimPr\\AppData\\Local\\Temp\\pip-install-v4u5bg9b\\numpy_175eb245dee94c0696ae7f12ea58f1a8\\numpy\\distutils\\core.py\", line 26, in <module>\n",
      "          from numpy.distutils.command import config, config_compiler, \\\n",
      "        File \"C:\\Users\\TimPr\\AppData\\Local\\Temp\\pip-install-v4u5bg9b\\numpy_175eb245dee94c0696ae7f12ea58f1a8\\numpy\\distutils\\command\\config.py\", line 19, in <module>\n",
      "          from numpy.distutils.mingw32ccompiler import generate_manifest\n",
      "        File \"C:\\Users\\TimPr\\AppData\\Local\\Temp\\pip-install-v4u5bg9b\\numpy_175eb245dee94c0696ae7f12ea58f1a8\\numpy\\distutils\\mingw32ccompiler.py\", line 34, in <module>\n",
      "          from distutils.msvccompiler import get_build_version as get_build_msvc_version\n",
      "      ModuleNotFoundError: No module named 'distutils.msvccompiler'\n",
      "      [end of output]\n",
      "  \n",
      "  note: This error originates from a subprocess, and is likely not a problem with pip.\n",
      "  ERROR: Failed building wheel for numpy\n",
      "  error: subprocess-exited-with-error\n",
      "  \n",
      "  × python setup.py clean did not run successfully.\n",
      "  │ exit code: 1\n",
      "  ╰─> [10 lines of output]\n",
      "      Running from numpy source directory.\n",
      "      \n",
      "      `setup.py clean` is not supported, use one of the following instead:\n",
      "      \n",
      "        - `git clean -xdf` (cleans all files)\n",
      "        - `git clean -Xdf` (cleans all versioned files, doesn't touch\n",
      "                            files that aren't checked into the git repo)\n",
      "      \n",
      "      Add `--force` to your command to use it anyway if you must (unsupported).\n",
      "      \n",
      "      [end of output]\n",
      "  \n",
      "  note: This error originates from a subprocess, and is likely not a problem with pip.\n",
      "  ERROR: Failed cleaning build dir for numpy\n",
      "ERROR: ERROR: Failed to build installable wheels for some pyproject.toml based projects (numpy)\n"
     ]
    }
   ],
   "source": [
    "%pip install mxnet"
   ]
  },
  {
   "cell_type": "code",
   "execution_count": 4,
   "metadata": {},
   "outputs": [
    {
     "ename": "ModuleNotFoundError",
     "evalue": "No module named 'mxnet'",
     "output_type": "error",
     "traceback": [
      "\u001b[1;31m---------------------------------------------------------------------------\u001b[0m",
      "\u001b[1;31mModuleNotFoundError\u001b[0m                       Traceback (most recent call last)",
      "Cell \u001b[1;32mIn[4], line 7\u001b[0m\n\u001b[0;32m      5\u001b[0m \u001b[38;5;28;01mfrom\u001b[39;00m \u001b[38;5;21;01mgluonts\u001b[39;00m\u001b[38;5;21;01m.\u001b[39;00m\u001b[38;5;21;01mdataset\u001b[39;00m\u001b[38;5;21;01m.\u001b[39;00m\u001b[38;5;21;01msplit\u001b[39;00m \u001b[38;5;28;01mimport\u001b[39;00m split\n\u001b[0;32m      6\u001b[0m \u001b[38;5;28;01mfrom\u001b[39;00m \u001b[38;5;21;01mgluonts\u001b[39;00m\u001b[38;5;21;01m.\u001b[39;00m\u001b[38;5;21;01mtorch\u001b[39;00m \u001b[38;5;28;01mimport\u001b[39;00m DeepAREstimator\n\u001b[1;32m----> 7\u001b[0m \u001b[38;5;28;01mfrom\u001b[39;00m \u001b[38;5;21;01mgluonts\u001b[39;00m\u001b[38;5;21;01m.\u001b[39;00m\u001b[38;5;21;01mmx\u001b[39;00m \u001b[38;5;28;01mimport\u001b[39;00m Trainer\n\u001b[0;32m      9\u001b[0m \u001b[38;5;28;01mfrom\u001b[39;00m \u001b[38;5;21;01msklearn\u001b[39;00m\u001b[38;5;21;01m.\u001b[39;00m\u001b[38;5;21;01mmetrics\u001b[39;00m \u001b[38;5;28;01mimport\u001b[39;00m mean_absolute_percentage_error, mean_absolute_error, mean_squared_error\n\u001b[0;32m     11\u001b[0m \u001b[38;5;28;01mfrom\u001b[39;00m \u001b[38;5;21;01msklearn\u001b[39;00m\u001b[38;5;21;01m.\u001b[39;00m\u001b[38;5;21;01mmodel_selection\u001b[39;00m \u001b[38;5;28;01mimport\u001b[39;00m (\n\u001b[0;32m     12\u001b[0m     train_test_split,\n\u001b[0;32m     13\u001b[0m     TimeSeriesSplit,\n\u001b[1;32m   (...)\u001b[0m\n\u001b[0;32m     17\u001b[0m     StratifiedKFold,\n\u001b[0;32m     18\u001b[0m )\n",
      "File \u001b[1;32mc:\\Users\\TimPr\\AppData\\Local\\Programs\\Python\\Python310\\lib\\site-packages\\gluonts\\mx\\__init__.py:21\u001b[0m\n\u001b[0;32m     18\u001b[0m \u001b[38;5;28;01mimport\u001b[39;00m \u001b[38;5;21;01mtyping\u001b[39;00m\n\u001b[0;32m     19\u001b[0m \u001b[38;5;28;01mfrom\u001b[39;00m \u001b[38;5;21;01mpkgutil\u001b[39;00m \u001b[38;5;28;01mimport\u001b[39;00m extend_path\n\u001b[1;32m---> 21\u001b[0m \u001b[38;5;28;01mimport\u001b[39;00m \u001b[38;5;21;01mmxnet\u001b[39;00m \u001b[38;5;28;01mas\u001b[39;00m \u001b[38;5;21;01mmx\u001b[39;00m\n\u001b[0;32m     23\u001b[0m __path__ \u001b[38;5;241m=\u001b[39m extend_path(__path__, \u001b[38;5;18m__name__\u001b[39m)  \u001b[38;5;66;03m# type: ignore\u001b[39;00m\n\u001b[0;32m     25\u001b[0m \u001b[38;5;66;03m# Tensor type for HybridBlocks in Gluon\u001b[39;00m\n",
      "\u001b[1;31mModuleNotFoundError\u001b[0m: No module named 'mxnet'"
     ]
    }
   ],
   "source": [
    "import pandas as pd\n",
    "import matplotlib.pyplot as plt\n",
    "\n",
    "from gluonts.dataset.pandas import PandasDataset\n",
    "from gluonts.dataset.split import split\n",
    "from gluonts.torch import DeepAREstimator\n",
    "from gluonts.mx import Trainer\n",
    "\n",
    "from sklearn.metrics import mean_absolute_percentage_error, mean_absolute_error, mean_squared_error\n",
    "\n",
    "from sklearn.model_selection import (\n",
    "    train_test_split,\n",
    "    TimeSeriesSplit,\n",
    "    KFold,\n",
    "    StratifiedGroupKFold,\n",
    "    GroupKFold,\n",
    "    StratifiedKFold,\n",
    ")"
   ]
  },
  {
   "cell_type": "code",
   "execution_count": 27,
   "metadata": {},
   "outputs": [],
   "source": [
    "df = pd.read_csv('../Data/merged_cleaned.csv',\n",
    "                 index_col= [0],\n",
    "                 parse_dates= [0])\n",
    "\n"
   ]
  },
  {
   "cell_type": "code",
   "execution_count": 9,
   "metadata": {},
   "outputs": [
    {
     "data": {
      "text/plain": [
       "Index(['Gesamt (Netzlast) [MWh] Berechnete Auflösungen',\n",
       "       'Deutschland/Luxemburg [€/MWh] Originalauflösungen',\n",
       "       'Biomasse [MWh] Berechnete Auflösungen',\n",
       "       'Wasserkraft [MWh] Berechnete Auflösungen',\n",
       "       'Wind Offshore [MWh] Berechnete Auflösungen',\n",
       "       'Wind Onshore [MWh] Berechnete Auflösungen',\n",
       "       'Photovoltaik [MWh] Berechnete Auflösungen',\n",
       "       'Sonstige Erneuerbare [MWh] Berechnete Auflösungen',\n",
       "       'Kernenergie [MWh] Berechnete Auflösungen',\n",
       "       'Braunkohle [MWh] Berechnete Auflösungen',\n",
       "       'Steinkohle [MWh] Berechnete Auflösungen',\n",
       "       'Erdgas [MWh] Berechnete Auflösungen',\n",
       "       'Pumpspeicher [MWh] Berechnete Auflösungen_y',\n",
       "       'Sonstige Konventionelle [MWh] Berechnete Auflösungen', 'Holiday',\n",
       "       'date', 'hour', 'dayofweek', 'day_name', 'quarter', 'month', 'year',\n",
       "       'dayofyear', 'dayofmonth', 'date_offset', 'hour_sin', 'hour_cos',\n",
       "       'dayofweek_sin', 'dayofweek_cos', 'month_sin', 'month_cos',\n",
       "       'dayofyear_sin', 'dayofyear_cos', 'is_workday'],\n",
       "      dtype='object')"
      ]
     },
     "execution_count": 9,
     "metadata": {},
     "output_type": "execute_result"
    }
   ],
   "source": [
    "df.columns"
   ]
  },
  {
   "cell_type": "code",
   "execution_count": 29,
   "metadata": {},
   "outputs": [],
   "source": [
    "df = df.iloc[:,0:14]"
   ]
  },
  {
   "cell_type": "code",
   "execution_count": 35,
   "metadata": {},
   "outputs": [
    {
     "data": {
      "text/plain": [
       "(Timestamp('2023-08-20 01:00:00'), Timestamp('2018-11-01 00:00:00'))"
      ]
     },
     "execution_count": 35,
     "metadata": {},
     "output_type": "execute_result"
    }
   ],
   "source": [
    "df.index[int(52621 * 0.8)], df.index[int(0 * 0.8)]"
   ]
  },
  {
   "cell_type": "code",
   "execution_count": 16,
   "metadata": {},
   "outputs": [],
   "source": [
    "df_input = df.reset_index(drop=True).T.reset_index()"
   ]
  },
  {
   "cell_type": "code",
   "execution_count": 18,
   "metadata": {},
   "outputs": [],
   "source": [
    "ts_code = df_input[\"index\"].astype(\"category\").cat.codes.values"
   ]
  },
  {
   "cell_type": "code",
   "execution_count": 22,
   "metadata": {},
   "outputs": [],
   "source": [
    "df_train = df_input.iloc[:, 1:int(52621*0.8)]\n",
    "df_test = df_input.iloc[:,int(52621*0.8):]"
   ]
  },
  {
   "cell_type": "code",
   "execution_count": 37,
   "metadata": {},
   "outputs": [],
   "source": [
    "freq = \"60min\"\n",
    "start_train = pd.Timestamp(\"2018-11-01 00:00:00\") \n",
    "start_test = pd.Timestamp(\"2023-08-20 01:00:00\") "
   ]
  },
  {
   "cell_type": "code",
   "execution_count": 40,
   "metadata": {},
   "outputs": [],
   "source": [
    "target_columns = [\n",
    "    \"Gesamt (Netzlast) [MWh] Berechnete Auflösungen\",\n",
    "    \"Deutschland/Luxemburg [€/MWh] Originalauflösungen\",\n",
    "    \"Biomasse [MWh] Berechnete Auflösungen\",\n",
    "    \"Wasserkraft [MWh] Berechnete Auflösungen\",\n",
    "    \"Wind Offshore [MWh] Berechnete Auflösungen\",\n",
    "    \"Wind Onshore [MWh] Berechnete Auflösungen\",\n",
    "    \"Photovoltaik [MWh] Berechnete Auflösungen\",\n",
    "    \"Sonstige Erneuerbare [MWh] Berechnete Auflösungen\",\n",
    "    \"Kernenergie [MWh] Berechnete Auflösungen\",\n",
    "    \"Braunkohle [MWh] Berechnete Auflösungen\",\n",
    "    \"Steinkohle [MWh] Berechnete Auflösungen\",\n",
    "    \"Erdgas [MWh] Berechnete Auflösungen\",\n",
    "    \"Pumpspeicher [MWh] Berechnete Auflösungen_y\",\n",
    "    \"Sonstige Konventionelle [MWh] Berechnete Auflösungen\"\n",
    "]"
   ]
  },
  {
   "cell_type": "code",
   "execution_count": 42,
   "metadata": {},
   "outputs": [],
   "source": [
    "# Extract the target data for training and testing\n",
    "train_target = df_train.values.T  # Shape: (num_series, num_time_steps)\n",
    "test_target = df_test.values.T"
   ]
  },
  {
   "cell_type": "code",
   "execution_count": 46,
   "metadata": {},
   "outputs": [
    {
     "ename": "NameError",
     "evalue": "name 'Trainer' is not defined",
     "output_type": "error",
     "traceback": [
      "\u001b[1;31m---------------------------------------------------------------------------\u001b[0m",
      "\u001b[1;31mNameError\u001b[0m                                 Traceback (most recent call last)",
      "Cell \u001b[1;32mIn[46], line 12\u001b[0m\n\u001b[0;32m      1\u001b[0m \u001b[38;5;66;03m# Set the frequency as a string variable (useful when creating the dataset)\u001b[39;00m\n\u001b[0;32m      2\u001b[0m freq \u001b[38;5;241m=\u001b[39m \u001b[38;5;124m\"\u001b[39m\u001b[38;5;124m60min\u001b[39m\u001b[38;5;124m\"\u001b[39m\n\u001b[0;32m      4\u001b[0m estimator \u001b[38;5;241m=\u001b[39m DeepAREstimator(freq\u001b[38;5;241m=\u001b[39mfreq,\n\u001b[0;32m      5\u001b[0m                             context_length\u001b[38;5;241m=\u001b[39m \u001b[38;5;241m672\u001b[39m,\n\u001b[0;32m      6\u001b[0m                             prediction_length\u001b[38;5;241m=\u001b[39m \u001b[38;5;241m672\u001b[39m,\n\u001b[0;32m      7\u001b[0m                             use_feat_static_cat \u001b[38;5;241m=\u001b[39m \u001b[38;5;28;01mTrue\u001b[39;00m,\n\u001b[0;32m      8\u001b[0m                             cardinality\u001b[38;5;241m=\u001b[39m [\u001b[38;5;241m1\u001b[39m],\n\u001b[0;32m      9\u001b[0m                             num_layers\u001b[38;5;241m=\u001b[39m \u001b[38;5;241m2\u001b[39m,\n\u001b[0;32m     10\u001b[0m                             num_cells \u001b[38;5;241m=\u001b[39m \u001b[38;5;241m32\u001b[39m,\n\u001b[0;32m     11\u001b[0m                             cell_type \u001b[38;5;241m=\u001b[39m \u001b[38;5;124m\"\u001b[39m\u001b[38;5;124mlstm\u001b[39m\u001b[38;5;124m\"\u001b[39m,\n\u001b[1;32m---> 12\u001b[0m                             trainer \u001b[38;5;241m=\u001b[39m \u001b[43mTrainer\u001b[49m(epochs\u001b[38;5;241m=\u001b[39m\u001b[38;5;241m5\u001b[39m))\n",
      "\u001b[1;31mNameError\u001b[0m: name 'Trainer' is not defined"
     ]
    }
   ],
   "source": [
    "# Set the frequency as a string variable (useful when creating the dataset)\n",
    "freq = \"60min\"\n",
    "\n",
    "estimator = DeepAREstimator(freq=freq,\n",
    "                            context_length= 672,\n",
    "                            prediction_length= 672,\n",
    "                            use_feat_static_cat = True,\n",
    "                            cardinality= [1],\n",
    "                            num_layers= 2,\n",
    "                            num_cells = 32,\n",
    "                            cell_type = \"lstm\",\n",
    "                            trainer = Trainer(epochs=5))\n"
   ]
  }
 ],
 "metadata": {
  "kernelspec": {
   "display_name": "Python 3",
   "language": "python",
   "name": "python3"
  },
  "language_info": {
   "codemirror_mode": {
    "name": "ipython",
    "version": 3
   },
   "file_extension": ".py",
   "mimetype": "text/x-python",
   "name": "python",
   "nbconvert_exporter": "python",
   "pygments_lexer": "ipython3",
   "version": "3.10.0"
  }
 },
 "nbformat": 4,
 "nbformat_minor": 2
}
