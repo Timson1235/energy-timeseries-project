{
 "cells": [
  {
   "cell_type": "code",
   "execution_count": 6,
   "metadata": {},
   "outputs": [],
   "source": [
    "from nixtla import NixtlaClient"
   ]
  },
  {
   "cell_type": "code",
   "execution_count": 7,
   "metadata": {},
   "outputs": [
    {
     "name": "stderr",
     "output_type": "stream",
     "text": [
      "INFO:nixtla.nixtla_client:Happy Forecasting! :)\n"
     ]
    },
    {
     "data": {
      "text/plain": [
       "True"
      ]
     },
     "execution_count": 7,
     "metadata": {},
     "output_type": "execute_result"
    }
   ],
   "source": [
    "nixtla_client = NixtlaClient(\n",
    "    api_key= 'nixak-wLpHMHfewrYIi3Xt3vOJJxRbqXxvBVcD35vDl1R5cSigqchC44afhrUeusH8xdgP9hlY1z8mXZI1DKjZ'\n",
    ")\n",
    "\n",
    "nixtla_client.validate_api_key()"
   ]
  },
  {
   "cell_type": "code",
   "execution_count": 8,
   "metadata": {},
   "outputs": [],
   "source": [
    "import pandas as pd\n",
    "\n",
    "df = pd.read_csv('..\\Data\\selected_features.csv')"
   ]
  },
  {
   "cell_type": "code",
   "execution_count": 12,
   "metadata": {},
   "outputs": [
    {
     "data": {
      "text/plain": [
       "0        2018-11-01 00:00:00\n",
       "1        2018-11-01 01:00:00\n",
       "2        2018-11-01 02:00:00\n",
       "3        2018-11-01 03:00:00\n",
       "4        2018-11-01 04:00:00\n",
       "                ...         \n",
       "52615    2024-10-30 19:00:00\n",
       "52616    2024-10-30 20:00:00\n",
       "52617    2024-10-30 21:00:00\n",
       "52618    2024-10-30 22:00:00\n",
       "52619    2024-10-30 23:00:00\n",
       "Name: Date, Length: 52620, dtype: object"
      ]
     },
     "execution_count": 12,
     "metadata": {},
     "output_type": "execute_result"
    }
   ],
   "source": [
    "df.Date"
   ]
  },
  {
   "cell_type": "code",
   "execution_count": 11,
   "metadata": {},
   "outputs": [
    {
     "name": "stderr",
     "output_type": "stream",
     "text": [
      "INFO:nixtla.nixtla_client:Validating inputs...\n"
     ]
    },
    {
     "ename": "RuntimeError",
     "evalue": "Could not infer the frequency of the time column. This could be due to inconsistent intervals. Please check your data for missing, duplicated or irregular timestamps",
     "output_type": "error",
     "traceback": [
      "\u001b[1;31m---------------------------------------------------------------------------\u001b[0m",
      "\u001b[1;31mRuntimeError\u001b[0m                              Traceback (most recent call last)",
      "Cell \u001b[1;32mIn[11], line 1\u001b[0m\n\u001b[1;32m----> 1\u001b[0m timegpt_fcst_df \u001b[38;5;241m=\u001b[39m \u001b[43mnixtla_client\u001b[49m\u001b[38;5;241;43m.\u001b[39;49m\u001b[43mforecast\u001b[49m\u001b[43m(\u001b[49m\u001b[43mdf\u001b[49m\u001b[43m \u001b[49m\u001b[38;5;241;43m=\u001b[39;49m\u001b[43m \u001b[49m\u001b[43mdf\u001b[49m\u001b[43m,\u001b[49m\u001b[43m \u001b[49m\u001b[43mh\u001b[49m\u001b[43m \u001b[49m\u001b[38;5;241;43m=\u001b[39;49m\u001b[43m \u001b[49m\u001b[38;5;241;43m24\u001b[39;49m\u001b[43m,\u001b[49m\u001b[43m \u001b[49m\u001b[43mtime_col\u001b[49m\u001b[38;5;241;43m=\u001b[39;49m\u001b[43m \u001b[49m\u001b[38;5;124;43m'\u001b[39;49m\u001b[38;5;124;43mDate\u001b[39;49m\u001b[38;5;124;43m'\u001b[39;49m\u001b[43m,\u001b[49m\u001b[43m \u001b[49m\u001b[43mtarget_col\u001b[49m\u001b[38;5;241;43m=\u001b[39;49m\u001b[38;5;124;43m'\u001b[39;49m\u001b[38;5;124;43mGesamt (Netzlast) [MWh] Berechnete Auflösungen\u001b[39;49m\u001b[38;5;124;43m'\u001b[39;49m\u001b[43m)\u001b[49m\n",
      "File \u001b[1;32mc:\\Users\\TimPr\\allcode\\energy-timeseries-project\\.venv\\lib\\site-packages\\nixtla\\nixtla_client.py:1369\u001b[0m, in \u001b[0;36mNixtlaClient.forecast\u001b[1;34m(self, df, h, freq, id_col, time_col, target_col, X_df, level, quantiles, finetune_steps, finetune_depth, finetune_loss, finetuned_model_id, clean_ex_first, hist_exog_list, validate_api_key, add_history, date_features, date_features_to_one_hot, model, num_partitions, feature_contributions)\u001b[0m\n\u001b[0;32m   1367\u001b[0m model \u001b[38;5;241m=\u001b[39m \u001b[38;5;28mself\u001b[39m\u001b[38;5;241m.\u001b[39m_maybe_override_model(model)\n\u001b[0;32m   1368\u001b[0m logger\u001b[38;5;241m.\u001b[39minfo(\u001b[38;5;124m\"\u001b[39m\u001b[38;5;124mValidating inputs...\u001b[39m\u001b[38;5;124m\"\u001b[39m)\n\u001b[1;32m-> 1369\u001b[0m df, X_df, drop_id, freq \u001b[38;5;241m=\u001b[39m \u001b[38;5;28;43mself\u001b[39;49m\u001b[38;5;241;43m.\u001b[39;49m\u001b[43m_run_validations\u001b[49m\u001b[43m(\u001b[49m\n\u001b[0;32m   1370\u001b[0m \u001b[43m    \u001b[49m\u001b[43mdf\u001b[49m\u001b[38;5;241;43m=\u001b[39;49m\u001b[43mdf\u001b[49m\u001b[43m,\u001b[49m\n\u001b[0;32m   1371\u001b[0m \u001b[43m    \u001b[49m\u001b[43mX_df\u001b[49m\u001b[38;5;241;43m=\u001b[39;49m\u001b[43mX_df\u001b[49m\u001b[43m,\u001b[49m\n\u001b[0;32m   1372\u001b[0m \u001b[43m    \u001b[49m\u001b[43mid_col\u001b[49m\u001b[38;5;241;43m=\u001b[39;49m\u001b[43mid_col\u001b[49m\u001b[43m,\u001b[49m\n\u001b[0;32m   1373\u001b[0m \u001b[43m    \u001b[49m\u001b[43mtime_col\u001b[49m\u001b[38;5;241;43m=\u001b[39;49m\u001b[43mtime_col\u001b[49m\u001b[43m,\u001b[49m\n\u001b[0;32m   1374\u001b[0m \u001b[43m    \u001b[49m\u001b[43mtarget_col\u001b[49m\u001b[38;5;241;43m=\u001b[39;49m\u001b[43mtarget_col\u001b[49m\u001b[43m,\u001b[49m\n\u001b[0;32m   1375\u001b[0m \u001b[43m    \u001b[49m\u001b[43mvalidate_api_key\u001b[49m\u001b[38;5;241;43m=\u001b[39;49m\u001b[43mvalidate_api_key\u001b[49m\u001b[43m,\u001b[49m\n\u001b[0;32m   1376\u001b[0m \u001b[43m    \u001b[49m\u001b[43mmodel\u001b[49m\u001b[38;5;241;43m=\u001b[39;49m\u001b[43mmodel\u001b[49m\u001b[43m,\u001b[49m\n\u001b[0;32m   1377\u001b[0m \u001b[43m    \u001b[49m\u001b[43mfreq\u001b[49m\u001b[38;5;241;43m=\u001b[39;49m\u001b[43mfreq\u001b[49m\u001b[43m,\u001b[49m\n\u001b[0;32m   1378\u001b[0m \u001b[43m\u001b[49m\u001b[43m)\u001b[49m\n\u001b[0;32m   1379\u001b[0m df, X_df \u001b[38;5;241m=\u001b[39m _validate_exog(\n\u001b[0;32m   1380\u001b[0m     df\u001b[38;5;241m=\u001b[39mdf,\n\u001b[0;32m   1381\u001b[0m     X_df\u001b[38;5;241m=\u001b[39mX_df,\n\u001b[1;32m   (...)\u001b[0m\n\u001b[0;32m   1385\u001b[0m     hist_exog\u001b[38;5;241m=\u001b[39mhist_exog_list,\n\u001b[0;32m   1386\u001b[0m )\n\u001b[0;32m   1387\u001b[0m level, quantiles \u001b[38;5;241m=\u001b[39m _prepare_level_and_quantiles(level, quantiles)\n",
      "File \u001b[1;32mc:\\Users\\TimPr\\allcode\\energy-timeseries-project\\.venv\\lib\\site-packages\\nixtla\\nixtla_client.py:914\u001b[0m, in \u001b[0;36mNixtlaClient._run_validations\u001b[1;34m(self, df, X_df, id_col, time_col, target_col, model, validate_api_key, freq)\u001b[0m\n\u001b[0;32m    910\u001b[0m \u001b[38;5;28;01mif\u001b[39;00m ufp\u001b[38;5;241m.\u001b[39mis_nan_or_none(df[target_col])\u001b[38;5;241m.\u001b[39many():\n\u001b[0;32m    911\u001b[0m     \u001b[38;5;28;01mraise\u001b[39;00m \u001b[38;5;167;01mValueError\u001b[39;00m(\n\u001b[0;32m    912\u001b[0m         \u001b[38;5;124mf\u001b[39m\u001b[38;5;124m\"\u001b[39m\u001b[38;5;124mTarget column (\u001b[39m\u001b[38;5;132;01m{\u001b[39;00mtarget_col\u001b[38;5;132;01m}\u001b[39;00m\u001b[38;5;124m) cannot contain missing values.\u001b[39m\u001b[38;5;124m\"\u001b[39m\n\u001b[0;32m    913\u001b[0m     )\n\u001b[1;32m--> 914\u001b[0m freq \u001b[38;5;241m=\u001b[39m \u001b[43m_maybe_infer_freq\u001b[49m\u001b[43m(\u001b[49m\u001b[43mdf\u001b[49m\u001b[43m,\u001b[49m\u001b[43m \u001b[49m\u001b[43mfreq\u001b[49m\u001b[38;5;241;43m=\u001b[39;49m\u001b[43mfreq\u001b[49m\u001b[43m,\u001b[49m\u001b[43m \u001b[49m\u001b[43mid_col\u001b[49m\u001b[38;5;241;43m=\u001b[39;49m\u001b[43mid_col\u001b[49m\u001b[43m,\u001b[49m\u001b[43m \u001b[49m\u001b[43mtime_col\u001b[49m\u001b[38;5;241;43m=\u001b[39;49m\u001b[43mtime_col\u001b[49m\u001b[43m)\u001b[49m\n\u001b[0;32m    915\u001b[0m \u001b[38;5;28;01mif\u001b[39;00m \u001b[38;5;28misinstance\u001b[39m(freq, (\u001b[38;5;28mstr\u001b[39m, \u001b[38;5;28mint\u001b[39m)):\n\u001b[0;32m    916\u001b[0m     expected_ids_times \u001b[38;5;241m=\u001b[39m id_time_grid(\n\u001b[0;32m    917\u001b[0m         df,\n\u001b[0;32m    918\u001b[0m         freq\u001b[38;5;241m=\u001b[39mfreq,\n\u001b[1;32m   (...)\u001b[0m\n\u001b[0;32m    922\u001b[0m         time_col\u001b[38;5;241m=\u001b[39mtime_col,\n\u001b[0;32m    923\u001b[0m     )\n",
      "File \u001b[1;32mc:\\Users\\TimPr\\allcode\\energy-timeseries-project\\.venv\\lib\\site-packages\\nixtla\\nixtla_client.py:225\u001b[0m, in \u001b[0;36m_maybe_infer_freq\u001b[1;34m(df, freq, id_col, time_col)\u001b[0m\n\u001b[0;32m    223\u001b[0m inferred_freq \u001b[38;5;241m=\u001b[39m pd\u001b[38;5;241m.\u001b[39minfer_freq(times\u001b[38;5;241m.\u001b[39mvalues)\n\u001b[0;32m    224\u001b[0m \u001b[38;5;28;01mif\u001b[39;00m inferred_freq \u001b[38;5;129;01mis\u001b[39;00m \u001b[38;5;28;01mNone\u001b[39;00m:\n\u001b[1;32m--> 225\u001b[0m     \u001b[38;5;28;01mraise\u001b[39;00m \u001b[38;5;167;01mRuntimeError\u001b[39;00m(\n\u001b[0;32m    226\u001b[0m         \u001b[38;5;124m\"\u001b[39m\u001b[38;5;124mCould not infer the frequency of the time column. This could be due \u001b[39m\u001b[38;5;124m\"\u001b[39m\n\u001b[0;32m    227\u001b[0m         \u001b[38;5;124m\"\u001b[39m\u001b[38;5;124mto inconsistent intervals. Please check your data for missing, \u001b[39m\u001b[38;5;124m\"\u001b[39m\n\u001b[0;32m    228\u001b[0m         \u001b[38;5;124m\"\u001b[39m\u001b[38;5;124mduplicated or irregular timestamps\u001b[39m\u001b[38;5;124m\"\u001b[39m\n\u001b[0;32m    229\u001b[0m     )\n\u001b[0;32m    230\u001b[0m logger\u001b[38;5;241m.\u001b[39minfo(\u001b[38;5;124mf\u001b[39m\u001b[38;5;124m\"\u001b[39m\u001b[38;5;124mInferred freq: \u001b[39m\u001b[38;5;132;01m{\u001b[39;00minferred_freq\u001b[38;5;132;01m}\u001b[39;00m\u001b[38;5;124m\"\u001b[39m)\n\u001b[0;32m    231\u001b[0m \u001b[38;5;28;01mreturn\u001b[39;00m inferred_freq\n",
      "\u001b[1;31mRuntimeError\u001b[0m: Could not infer the frequency of the time column. This could be due to inconsistent intervals. Please check your data for missing, duplicated or irregular timestamps"
     ]
    }
   ],
   "source": [
    "timegpt_fcst_df = nixtla_client.forecast(df = df, h = 24, time_col= 'Date', target_col='Gesamt (Netzlast) [MWh] Berechnete Auflösungen')"
   ]
  }
 ],
 "metadata": {
  "kernelspec": {
   "display_name": ".venv",
   "language": "python",
   "name": "python3"
  },
  "language_info": {
   "codemirror_mode": {
    "name": "ipython",
    "version": 3
   },
   "file_extension": ".py",
   "mimetype": "text/x-python",
   "name": "python",
   "nbconvert_exporter": "python",
   "pygments_lexer": "ipython3",
   "version": "3.10.0"
  }
 },
 "nbformat": 4,
 "nbformat_minor": 2
}
