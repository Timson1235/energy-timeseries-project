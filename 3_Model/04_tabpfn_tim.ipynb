{
 "cells": [
  {
   "cell_type": "code",
   "execution_count": 2,
   "metadata": {},
   "outputs": [
    {
     "name": "stderr",
     "output_type": "stream",
     "text": [
      "c:\\Users\\TimPr\\AppData\\Local\\Programs\\Python\\Python310\\lib\\site-packages\\tqdm\\auto.py:21: TqdmWarning: IProgress not found. Please update jupyter and ipywidgets. See https://ipywidgets.readthedocs.io/en/stable/user_install.html\n",
      "  from .autonotebook import tqdm as notebook_tqdm\n"
     ]
    }
   ],
   "source": [
    "import pandas as pd\n",
    "import matplotlib.pyplot as plt\n",
    "import numpy as np\n",
    "from sklearn.preprocessing import StandardScaler\n",
    "from sklearn.ensemble import RandomForestRegressor\n",
    "import xgboost as xgb\n",
    "import lightgbm as lgb\n",
    "from sklearn.metrics import mean_absolute_percentage_error\n",
    "from sklearn.model_selection import GridSearchCV\n",
    "from sklearn.model_selection import RandomizedSearchCV\n",
    "import numpy as np\n",
    "import joblib\n",
    "from sklearn.model_selection import TimeSeriesSplit\n",
    "import optuna \n",
    "from sklearn.model_selection import cross_val_score\n"
   ]
  },
  {
   "cell_type": "code",
   "execution_count": 7,
   "metadata": {},
   "outputs": [
    {
     "name": "stdout",
     "output_type": "stream",
     "text": [
      "Requirement already satisfied: tabpfn-client in c:\\users\\timpr\\appdata\\local\\programs\\python\\python310\\lib\\site-packages (0.1.4)\n",
      "Requirement already satisfied: cityhash<=0.4.7,>=0.4.3 in c:\\users\\timpr\\appdata\\local\\programs\\python\\python310\\lib\\site-packages (from tabpfn-client) (0.4.7)\n",
      "Requirement already satisfied: httpx<=0.27.2,>=0.25.0 in c:\\users\\timpr\\appdata\\local\\programs\\python\\python310\\lib\\site-packages (from tabpfn-client) (0.27.2)\n",
      "Requirement already satisfied: omegaconf<=2.3.0,>=2.1.2 in c:\\users\\timpr\\appdata\\local\\programs\\python\\python310\\lib\\site-packages (from tabpfn-client) (2.3.0)\n",
      "Requirement already satisfied: pandas<=2.2.3,>=2.1.2 in c:\\users\\timpr\\appdata\\local\\programs\\python\\python310\\lib\\site-packages (from tabpfn-client) (2.2.3)\n",
      "Requirement already satisfied: password-strength<=0.0.3.post2,>=0.0.3.post2 in c:\\users\\timpr\\appdata\\local\\programs\\python\\python310\\lib\\site-packages (from tabpfn-client) (0.0.3.post2)\n",
      "Requirement already satisfied: scikit-learn<=1.6.1,>=1.3.1 in c:\\users\\timpr\\appdata\\local\\programs\\python\\python310\\lib\\site-packages (from tabpfn-client) (1.5.2)\n",
      "Requirement already satisfied: sseclient-py<=1.8.0,>=1.8.0 in c:\\users\\timpr\\appdata\\local\\programs\\python\\python310\\lib\\site-packages (from tabpfn-client) (1.8.0)\n",
      "Requirement already satisfied: tqdm<=4.67.1,>=4.63.0 in c:\\users\\timpr\\appdata\\local\\programs\\python\\python310\\lib\\site-packages (from tabpfn-client) (4.67.0)\n",
      "Requirement already satisfied: anyio in c:\\users\\timpr\\appdata\\local\\programs\\python\\python310\\lib\\site-packages (from httpx<=0.27.2,>=0.25.0->tabpfn-client) (4.8.0)\n",
      "Requirement already satisfied: certifi in c:\\users\\timpr\\appdata\\local\\programs\\python\\python310\\lib\\site-packages (from httpx<=0.27.2,>=0.25.0->tabpfn-client) (2024.8.30)\n",
      "Requirement already satisfied: httpcore==1.* in c:\\users\\timpr\\appdata\\local\\programs\\python\\python310\\lib\\site-packages (from httpx<=0.27.2,>=0.25.0->tabpfn-client) (1.0.7)\n",
      "Requirement already satisfied: idna in c:\\users\\timpr\\appdata\\local\\programs\\python\\python310\\lib\\site-packages (from httpx<=0.27.2,>=0.25.0->tabpfn-client) (3.10)\n",
      "Requirement already satisfied: sniffio in c:\\users\\timpr\\appdata\\local\\programs\\python\\python310\\lib\\site-packages (from httpx<=0.27.2,>=0.25.0->tabpfn-client) (1.3.1)\n",
      "Requirement already satisfied: h11<0.15,>=0.13 in c:\\users\\timpr\\appdata\\local\\programs\\python\\python310\\lib\\site-packages (from httpcore==1.*->httpx<=0.27.2,>=0.25.0->tabpfn-client) (0.14.0)\n",
      "Requirement already satisfied: antlr4-python3-runtime==4.9.* in c:\\users\\timpr\\appdata\\local\\programs\\python\\python310\\lib\\site-packages (from omegaconf<=2.3.0,>=2.1.2->tabpfn-client) (4.9.3)\n",
      "Requirement already satisfied: PyYAML>=5.1.0 in c:\\users\\timpr\\appdata\\local\\programs\\python\\python310\\lib\\site-packages (from omegaconf<=2.3.0,>=2.1.2->tabpfn-client) (6.0.2)\n",
      "Requirement already satisfied: numpy>=1.22.4 in c:\\users\\timpr\\appdata\\local\\programs\\python\\python310\\lib\\site-packages (from pandas<=2.2.3,>=2.1.2->tabpfn-client) (2.2.1)\n",
      "Requirement already satisfied: python-dateutil>=2.8.2 in c:\\users\\timpr\\appdata\\local\\programs\\python\\python310\\lib\\site-packages (from pandas<=2.2.3,>=2.1.2->tabpfn-client) (2.9.0.post0)\n",
      "Requirement already satisfied: pytz>=2020.1 in c:\\users\\timpr\\appdata\\local\\programs\\python\\python310\\lib\\site-packages (from pandas<=2.2.3,>=2.1.2->tabpfn-client) (2024.2)\n",
      "Requirement already satisfied: tzdata>=2022.7 in c:\\users\\timpr\\appdata\\local\\programs\\python\\python310\\lib\\site-packages (from pandas<=2.2.3,>=2.1.2->tabpfn-client) (2024.2)\n",
      "Requirement already satisfied: six in c:\\users\\timpr\\appdata\\local\\programs\\python\\python310\\lib\\site-packages (from password-strength<=0.0.3.post2,>=0.0.3.post2->tabpfn-client) (1.17.0)\n",
      "Requirement already satisfied: scipy>=1.6.0 in c:\\users\\timpr\\appdata\\local\\programs\\python\\python310\\lib\\site-packages (from scikit-learn<=1.6.1,>=1.3.1->tabpfn-client) (1.15.1)\n",
      "Requirement already satisfied: joblib>=1.2.0 in c:\\users\\timpr\\appdata\\local\\programs\\python\\python310\\lib\\site-packages (from scikit-learn<=1.6.1,>=1.3.1->tabpfn-client) (1.4.2)\n",
      "Requirement already satisfied: threadpoolctl>=3.1.0 in c:\\users\\timpr\\appdata\\local\\programs\\python\\python310\\lib\\site-packages (from scikit-learn<=1.6.1,>=1.3.1->tabpfn-client) (3.5.0)\n",
      "Requirement already satisfied: colorama in c:\\users\\timpr\\appdata\\roaming\\python\\python310\\site-packages (from tqdm<=4.67.1,>=4.63.0->tabpfn-client) (0.4.6)\n",
      "Requirement already satisfied: exceptiongroup>=1.0.2 in c:\\users\\timpr\\appdata\\roaming\\python\\python310\\site-packages (from anyio->httpx<=0.27.2,>=0.25.0->tabpfn-client) (1.2.2)\n",
      "Requirement already satisfied: typing_extensions>=4.5 in c:\\users\\timpr\\appdata\\roaming\\python\\python310\\site-packages (from anyio->httpx<=0.27.2,>=0.25.0->tabpfn-client) (4.12.2)\n"
     ]
    },
    {
     "name": "stderr",
     "output_type": "stream",
     "text": [
      "\n",
      "[notice] A new release of pip is available: 24.3.1 -> 25.0.1\n",
      "[notice] To update, run: python.exe -m pip install --upgrade pip\n"
     ]
    }
   ],
   "source": [
    "!pip install tabpfn-client\n"
   ]
  },
  {
   "cell_type": "code",
   "execution_count": 13,
   "metadata": {},
   "outputs": [],
   "source": [
    "def clean_column_names(df):\n",
    "    \"\"\"Clean column names to be compatible with XGBoost\"\"\"\n",
    "    df = df.copy()\n",
    "    # Remove brackets and clean special characters\n",
    "    df.columns = (df.columns\n",
    "                 .str.replace('[', '')\n",
    "                 .str.replace(']', '')\n",
    "                 .str.replace(' ', '_')\n",
    "                 .str.replace('(', '')\n",
    "                 .str.replace(')', '')\n",
    "                 .str.replace('ö', 'oe')  # Handle German special characters\n",
    "                 .str.replace('ä', 'ae')\n",
    "                 .str.replace('ü', 'ue'))\n",
    "    return df\n",
    "\n",
    "def create_lagged_features(df, target_col, lag_hours=[1, 2, 3, 4, 5, 6, 7, 8, 9, 10, 11, 12, 24, 48, 72, 168, 336, 672, 1008, 2016, 8760]):\n",
    "    \"\"\"Create additional lagged features for time series data\"\"\"\n",
    "    df_copy = df.copy()\n",
    "    \n",
    "    # Create lags for a variety of time periods (e.g., 1h, 2h, 1 day, 1 week, etc.)\n",
    "    for lag in lag_hours:\n",
    "        df_copy[f'{target_col}_lag_{lag}h'] = df_copy[target_col].shift(lag)\n",
    "        \n",
    "    # Drop rows with NaN values created by lagging\n",
    "    df_copy = df_copy.dropna()\n",
    "    \n",
    "    return df_copy\n",
    "\n",
    "\n",
    "def preprocess_load_data(data, split_date='2023-09-30'):\n",
    "    \"\"\"Preprocess the load data including lagged features\"\"\"\n",
    "    df = data.copy()\n",
    "\n",
    "    # Convert Date column to datetime and sort\n",
    "    df['Date'] = pd.to_datetime(df['Date'])\n",
    "    df = df.sort_values('Date')\n",
    "\n",
    "    # Create lagged features before cleaning column names\n",
    "    df = create_lagged_features(df, target_col='Gesamt (Netzlast) [MWh] Berechnete Auflösungen')\n",
    "\n",
    "    # Clean column names\n",
    "    df = clean_column_names(df)\n",
    "\n",
    "    # Rename target column\n",
    "    df = df.rename(columns={'Gesamt_Netzlast_MWh_Berechnete_Aufloesungen': 'load'})\n",
    "\n",
    "    # Split data based on date\n",
    "    train_data = df[df['Date'] < split_date].tail(5_000)  # Keep only the last 10,000 rows\n",
    "    test_data = df[df['Date'] >= split_date]\n",
    "\n",
    "    # Define feature columns\n",
    "    base_features = [\n",
    "        'hour', 'dayofyear_cos', 'dayofweek', 'dayofweek_sin',\n",
    "        'is_workday', 'hour_cos', 'date_offset', 'dayofyear',\n",
    "        'Kernenergie_MWh_Berechnete_Aufloesungen',\n",
    "        'Steinkohle_MWh_Berechnete_Aufloesungen',\n",
    "        'Holiday_Not_a_Holiday', 'hour_sin',\n",
    "        'Wind_Onshore_MWh_Berechnete_Aufloesungen'\n",
    "    ]\n",
    "    lag_features = [col for col in df.columns if 'lag' in col]\n",
    "    feature_columns = base_features + lag_features\n",
    "\n",
    "    # Extract features and target\n",
    "    X_train = train_data[feature_columns]\n",
    "    y_train = train_data['load']\n",
    "    X_test = test_data[feature_columns]\n",
    "    y_test = test_data['load']\n",
    "\n",
    "    # Scale features\n",
    "    scaler = StandardScaler()\n",
    "    X_train_scaled = scaler.fit_transform(X_train)\n",
    "    X_test_scaled = scaler.transform(X_test)\n",
    "\n",
    "    # Convert back to DataFrame\n",
    "    X_train_scaled = pd.DataFrame(X_train_scaled, columns=feature_columns)\n",
    "    X_test_scaled = pd.DataFrame(X_test_scaled, columns=feature_columns)\n",
    "\n",
    "    print(f\"\\nTraining data shape: {X_train_scaled.shape}\")\n",
    "    print(f\"Testing data shape: {X_test_scaled.shape}\")\n",
    "    print(f\"Training period: {train_data['Date'].min()} to {train_data['Date'].max()}\")\n",
    "    print(f\"Testing period: {test_data['Date'].min()} to {test_data['Date'].max()}\")\n",
    "\n",
    "    return X_train_scaled, X_test_scaled, y_train, y_test, feature_columns\n"
   ]
  },
  {
   "cell_type": "code",
   "execution_count": 14,
   "metadata": {},
   "outputs": [
    {
     "name": "stdout",
     "output_type": "stream",
     "text": [
      "\n",
      "Training data shape: (5000, 34)\n",
      "Testing data shape: (9541, 34)\n",
      "Training period: 2023-03-05 15:00:00 to 2023-09-29 23:00:00\n",
      "Testing period: 2023-09-30 00:00:00 to 2024-10-30 23:00:00\n"
     ]
    }
   ],
   "source": [
    "import pandas as pd\n",
    "from sklearn.preprocessing import StandardScaler\n",
    "\n",
    "data = pd.read_csv('../Data/selected_features.csv')\n",
    "\n",
    "# Assuming 'data' is your DataFrame containing the energy load data\n",
    "X_train_scaled, X_test_scaled, y_train, y_test, feature_columns = preprocess_load_data(data)\n"
   ]
  },
  {
   "cell_type": "code",
   "execution_count": 15,
   "metadata": {},
   "outputs": [
    {
     "name": "stderr",
     "output_type": "stream",
     "text": [
      "Processing: 100%|██████████| [00:35<00:00]\n"
     ]
    }
   ],
   "source": [
    "from tabpfn_client import init, TabPFNClassifier, TabPFNRegressor\n",
    "\n",
    "# Initialize the TabPFN Regressor\n",
    "model = TabPFNRegressor()\n",
    "\n",
    "# Fit the model on the training data\n",
    "model.fit(X_train_scaled, y_train)\n",
    "\n",
    "# Make predictions on the test data\n",
    "y_pred = model.predict(X_test_scaled)\n"
   ]
  },
  {
   "cell_type": "code",
   "execution_count": 18,
   "metadata": {},
   "outputs": [
    {
     "name": "stdout",
     "output_type": "stream",
     "text": [
      "MAE: 498.971672829761\n",
      "MAPE: 0.009259450696184304\n"
     ]
    }
   ],
   "source": [
    "from sklearn.metrics import mean_absolute_error, mean_absolute_percentage_error\n",
    "\n",
    "# Calculate MAE and MAPE\n",
    "mae = mean_absolute_error(y_test, y_pred)\n",
    "mape = mean_absolute_percentage_error(y_test, y_pred)\n",
    "\n",
    "print(f\"MAE: {mae}\")\n",
    "print(f\"MAPE: {mape}\")  # Convert to percentage format"
   ]
  }
 ],
 "metadata": {
  "kernelspec": {
   "display_name": "Python 3",
   "language": "python",
   "name": "python3"
  },
  "language_info": {
   "codemirror_mode": {
    "name": "ipython",
    "version": 3
   },
   "file_extension": ".py",
   "mimetype": "text/x-python",
   "name": "python",
   "nbconvert_exporter": "python",
   "pygments_lexer": "ipython3",
   "version": "3.10.0"
  }
 },
 "nbformat": 4,
 "nbformat_minor": 2
}
