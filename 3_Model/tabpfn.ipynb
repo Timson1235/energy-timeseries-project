{
 "cells": [
  {
   "cell_type": "code",
   "execution_count": 2,
   "metadata": {},
   "outputs": [
    {
     "name": "stderr",
     "output_type": "stream",
     "text": [
      "c:\\Users\\TimPr\\AppData\\Local\\Programs\\Python\\Python310\\lib\\site-packages\\tqdm\\auto.py:21: TqdmWarning: IProgress not found. Please update jupyter and ipywidgets. See https://ipywidgets.readthedocs.io/en/stable/user_install.html\n",
      "  from .autonotebook import tqdm as notebook_tqdm\n"
     ]
    }
   ],
   "source": [
    "import pandas as pd\n",
    "import matplotlib.pyplot as plt\n",
    "import numpy as np\n",
    "from sklearn.preprocessing import StandardScaler\n",
    "from sklearn.ensemble import RandomForestRegressor\n",
    "import xgboost as xgb\n",
    "import lightgbm as lgb\n",
    "from sklearn.metrics import mean_absolute_percentage_error\n",
    "from sklearn.model_selection import GridSearchCV\n",
    "from sklearn.model_selection import RandomizedSearchCV\n",
    "import numpy as np\n",
    "import joblib\n",
    "from sklearn.model_selection import TimeSeriesSplit\n",
    "import optuna \n",
    "from sklearn.model_selection import cross_val_score\n"
   ]
  },
  {
   "cell_type": "code",
   "execution_count": 7,
   "metadata": {},
   "outputs": [
    {
     "name": "stdout",
     "output_type": "stream",
     "text": [
      "Requirement already satisfied: tabpfn-client in c:\\users\\timpr\\appdata\\local\\programs\\python\\python310\\lib\\site-packages (0.1.4)\n",
      "Requirement already satisfied: cityhash<=0.4.7,>=0.4.3 in c:\\users\\timpr\\appdata\\local\\programs\\python\\python310\\lib\\site-packages (from tabpfn-client) (0.4.7)\n",
      "Requirement already satisfied: httpx<=0.27.2,>=0.25.0 in c:\\users\\timpr\\appdata\\local\\programs\\python\\python310\\lib\\site-packages (from tabpfn-client) (0.27.2)\n",
      "Requirement already satisfied: omegaconf<=2.3.0,>=2.1.2 in c:\\users\\timpr\\appdata\\local\\programs\\python\\python310\\lib\\site-packages (from tabpfn-client) (2.3.0)\n",
      "Requirement already satisfied: pandas<=2.2.3,>=2.1.2 in c:\\users\\timpr\\appdata\\local\\programs\\python\\python310\\lib\\site-packages (from tabpfn-client) (2.2.3)\n",
      "Requirement already satisfied: password-strength<=0.0.3.post2,>=0.0.3.post2 in c:\\users\\timpr\\appdata\\local\\programs\\python\\python310\\lib\\site-packages (from tabpfn-client) (0.0.3.post2)\n",
      "Requirement already satisfied: scikit-learn<=1.6.1,>=1.3.1 in c:\\users\\timpr\\appdata\\local\\programs\\python\\python310\\lib\\site-packages (from tabpfn-client) (1.5.2)\n",
      "Requirement already satisfied: sseclient-py<=1.8.0,>=1.8.0 in c:\\users\\timpr\\appdata\\local\\programs\\python\\python310\\lib\\site-packages (from tabpfn-client) (1.8.0)\n",
      "Requirement already satisfied: tqdm<=4.67.1,>=4.63.0 in c:\\users\\timpr\\appdata\\local\\programs\\python\\python310\\lib\\site-packages (from tabpfn-client) (4.67.0)\n",
      "Requirement already satisfied: anyio in c:\\users\\timpr\\appdata\\local\\programs\\python\\python310\\lib\\site-packages (from httpx<=0.27.2,>=0.25.0->tabpfn-client) (4.8.0)\n",
      "Requirement already satisfied: certifi in c:\\users\\timpr\\appdata\\local\\programs\\python\\python310\\lib\\site-packages (from httpx<=0.27.2,>=0.25.0->tabpfn-client) (2024.8.30)\n",
      "Requirement already satisfied: httpcore==1.* in c:\\users\\timpr\\appdata\\local\\programs\\python\\python310\\lib\\site-packages (from httpx<=0.27.2,>=0.25.0->tabpfn-client) (1.0.7)\n",
      "Requirement already satisfied: idna in c:\\users\\timpr\\appdata\\local\\programs\\python\\python310\\lib\\site-packages (from httpx<=0.27.2,>=0.25.0->tabpfn-client) (3.10)\n",
      "Requirement already satisfied: sniffio in c:\\users\\timpr\\appdata\\local\\programs\\python\\python310\\lib\\site-packages (from httpx<=0.27.2,>=0.25.0->tabpfn-client) (1.3.1)\n",
      "Requirement already satisfied: h11<0.15,>=0.13 in c:\\users\\timpr\\appdata\\local\\programs\\python\\python310\\lib\\site-packages (from httpcore==1.*->httpx<=0.27.2,>=0.25.0->tabpfn-client) (0.14.0)\n",
      "Requirement already satisfied: antlr4-python3-runtime==4.9.* in c:\\users\\timpr\\appdata\\local\\programs\\python\\python310\\lib\\site-packages (from omegaconf<=2.3.0,>=2.1.2->tabpfn-client) (4.9.3)\n",
      "Requirement already satisfied: PyYAML>=5.1.0 in c:\\users\\timpr\\appdata\\local\\programs\\python\\python310\\lib\\site-packages (from omegaconf<=2.3.0,>=2.1.2->tabpfn-client) (6.0.2)\n",
      "Requirement already satisfied: numpy>=1.22.4 in c:\\users\\timpr\\appdata\\local\\programs\\python\\python310\\lib\\site-packages (from pandas<=2.2.3,>=2.1.2->tabpfn-client) (2.2.1)\n",
      "Requirement already satisfied: python-dateutil>=2.8.2 in c:\\users\\timpr\\appdata\\local\\programs\\python\\python310\\lib\\site-packages (from pandas<=2.2.3,>=2.1.2->tabpfn-client) (2.9.0.post0)\n",
      "Requirement already satisfied: pytz>=2020.1 in c:\\users\\timpr\\appdata\\local\\programs\\python\\python310\\lib\\site-packages (from pandas<=2.2.3,>=2.1.2->tabpfn-client) (2024.2)\n",
      "Requirement already satisfied: tzdata>=2022.7 in c:\\users\\timpr\\appdata\\local\\programs\\python\\python310\\lib\\site-packages (from pandas<=2.2.3,>=2.1.2->tabpfn-client) (2024.2)\n",
      "Requirement already satisfied: six in c:\\users\\timpr\\appdata\\local\\programs\\python\\python310\\lib\\site-packages (from password-strength<=0.0.3.post2,>=0.0.3.post2->tabpfn-client) (1.17.0)\n",
      "Requirement already satisfied: scipy>=1.6.0 in c:\\users\\timpr\\appdata\\local\\programs\\python\\python310\\lib\\site-packages (from scikit-learn<=1.6.1,>=1.3.1->tabpfn-client) (1.15.1)\n",
      "Requirement already satisfied: joblib>=1.2.0 in c:\\users\\timpr\\appdata\\local\\programs\\python\\python310\\lib\\site-packages (from scikit-learn<=1.6.1,>=1.3.1->tabpfn-client) (1.4.2)\n",
      "Requirement already satisfied: threadpoolctl>=3.1.0 in c:\\users\\timpr\\appdata\\local\\programs\\python\\python310\\lib\\site-packages (from scikit-learn<=1.6.1,>=1.3.1->tabpfn-client) (3.5.0)\n",
      "Requirement already satisfied: colorama in c:\\users\\timpr\\appdata\\roaming\\python\\python310\\site-packages (from tqdm<=4.67.1,>=4.63.0->tabpfn-client) (0.4.6)\n",
      "Requirement already satisfied: exceptiongroup>=1.0.2 in c:\\users\\timpr\\appdata\\roaming\\python\\python310\\site-packages (from anyio->httpx<=0.27.2,>=0.25.0->tabpfn-client) (1.2.2)\n",
      "Requirement already satisfied: typing_extensions>=4.5 in c:\\users\\timpr\\appdata\\roaming\\python\\python310\\site-packages (from anyio->httpx<=0.27.2,>=0.25.0->tabpfn-client) (4.12.2)\n"
     ]
    },
    {
     "name": "stderr",
     "output_type": "stream",
     "text": [
      "\n",
      "[notice] A new release of pip is available: 24.3.1 -> 25.0.1\n",
      "[notice] To update, run: python.exe -m pip install --upgrade pip\n"
     ]
    }
   ],
   "source": [
    "!pip install tabpfn-client\n"
   ]
  },
  {
   "cell_type": "code",
   "execution_count": 13,
   "metadata": {},
   "outputs": [],
   "source": [
    "def clean_column_names(df):\n",
    "    \"\"\"Clean column names to be compatible with XGBoost\"\"\"\n",
    "    df = df.copy()\n",
    "    # Remove brackets and clean special characters\n",
    "    df.columns = (df.columns\n",
    "                 .str.replace('[', '')\n",
    "                 .str.replace(']', '')\n",
    "                 .str.replace(' ', '_')\n",
    "                 .str.replace('(', '')\n",
    "                 .str.replace(')', '')\n",
    "                 .str.replace('ö', 'oe')  # Handle German special characters\n",
    "                 .str.replace('ä', 'ae')\n",
    "                 .str.replace('ü', 'ue'))\n",
    "    return df\n",
    "\n",
    "def create_lagged_features(df, target_col, lag_hours=[1, 2, 3, 4, 5, 6, 7, 8, 9, 10, 11, 12, 24, 48, 72, 168, 336, 672, 1008, 2016, 8760]):\n",
    "    \"\"\"Create additional lagged features for time series data\"\"\"\n",
    "    df_copy = df.copy()\n",
    "    \n",
    "    # Create lags for a variety of time periods (e.g., 1h, 2h, 1 day, 1 week, etc.)\n",
    "    for lag in lag_hours:\n",
    "        df_copy[f'{target_col}_lag_{lag}h'] = df_copy[target_col].shift(lag)\n",
    "        \n",
    "    # Drop rows with NaN values created by lagging\n",
    "    df_copy = df_copy.dropna()\n",
    "    \n",
    "    return df_copy\n",
    "\n",
    "\n",
    "def preprocess_load_data(data, split_date='2023-09-30'):\n",
    "    \"\"\"Preprocess the load data including lagged features\"\"\"\n",
    "    df = data.copy()\n",
    "\n",
    "    # Convert Date column to datetime and sort\n",
    "    df['Date'] = pd.to_datetime(df['Date'])\n",
    "    df = df.sort_values('Date')\n",
    "\n",
    "    # Create lagged features before cleaning column names\n",
    "    df = create_lagged_features(df, target_col='Gesamt (Netzlast) [MWh] Berechnete Auflösungen')\n",
    "\n",
    "    # Clean column names\n",
    "    df = clean_column_names(df)\n",
    "\n",
    "    # Rename target column\n",
    "    df = df.rename(columns={'Gesamt_Netzlast_MWh_Berechnete_Aufloesungen': 'load'})\n",
    "\n",
    "    # Split data based on date\n",
    "    train_data = df[df['Date'] < split_date].tail(5_000)  # Keep only the last 10,000 rows\n",
    "    test_data = df[df['Date'] >= split_date]\n",
    "\n",
    "    # Define feature columns\n",
    "    base_features = [\n",
    "        'hour', 'dayofyear_cos', 'dayofweek', 'dayofweek_sin',\n",
    "        'is_workday', 'hour_cos', 'date_offset', 'dayofyear',\n",
    "        'Kernenergie_MWh_Berechnete_Aufloesungen',\n",
    "        'Steinkohle_MWh_Berechnete_Aufloesungen',\n",
    "        'Holiday_Not_a_Holiday', 'hour_sin',\n",
    "        'Wind_Onshore_MWh_Berechnete_Aufloesungen'\n",
    "    ]\n",
    "    lag_features = [col for col in df.columns if 'lag' in col]\n",
    "    feature_columns = base_features + lag_features\n",
    "\n",
    "    # Extract features and target\n",
    "    X_train = train_data[feature_columns]\n",
    "    y_train = train_data['load']\n",
    "    X_test = test_data[feature_columns]\n",
    "    y_test = test_data['load']\n",
    "\n",
    "    # Scale features\n",
    "    scaler = StandardScaler()\n",
    "    X_train_scaled = scaler.fit_transform(X_train)\n",
    "    X_test_scaled = scaler.transform(X_test)\n",
    "\n",
    "    # Convert back to DataFrame\n",
    "    X_train_scaled = pd.DataFrame(X_train_scaled, columns=feature_columns)\n",
    "    X_test_scaled = pd.DataFrame(X_test_scaled, columns=feature_columns)\n",
    "\n",
    "    print(f\"\\nTraining data shape: {X_train_scaled.shape}\")\n",
    "    print(f\"Testing data shape: {X_test_scaled.shape}\")\n",
    "    print(f\"Training period: {train_data['Date'].min()} to {train_data['Date'].max()}\")\n",
    "    print(f\"Testing period: {test_data['Date'].min()} to {test_data['Date'].max()}\")\n",
    "\n",
    "    return X_train_scaled, X_test_scaled, y_train, y_test, feature_columns\n"
   ]
  },
  {
   "cell_type": "code",
   "execution_count": 14,
   "metadata": {},
   "outputs": [
    {
     "name": "stdout",
     "output_type": "stream",
     "text": [
      "\n",
      "Training data shape: (5000, 34)\n",
      "Testing data shape: (9541, 34)\n",
      "Training period: 2023-03-05 15:00:00 to 2023-09-29 23:00:00\n",
      "Testing period: 2023-09-30 00:00:00 to 2024-10-30 23:00:00\n"
     ]
    }
   ],
   "source": [
    "import pandas as pd\n",
    "from sklearn.preprocessing import StandardScaler\n",
    "\n",
    "data = pd.read_csv('../Data/selected_features.csv')\n",
    "\n",
    "# Assuming 'data' is your DataFrame containing the energy load data\n",
    "X_train_scaled, X_test_scaled, y_train, y_test, feature_columns = preprocess_load_data(data)\n"
   ]
  },
  {
   "cell_type": "code",
   "execution_count": 15,
   "metadata": {},
   "outputs": [
    {
     "name": "stderr",
     "output_type": "stream",
     "text": [
      "Processing: 100%|██████████| [00:35<00:00]\n"
     ]
    }
   ],
   "source": [
    "from tabpfn_client import init, TabPFNClassifier, TabPFNRegressor\n",
    "\n",
    "# Initialize the TabPFN Regressor\n",
    "model = TabPFNRegressor()\n",
    "\n",
    "# Fit the model on the training data\n",
    "model.fit(X_train_scaled, y_train)\n",
    "\n",
    "# Make predictions on the test data\n",
    "y_pred = model.predict(X_test_scaled)\n"
   ]
  },
  {
   "cell_type": "code",
   "execution_count": 18,
   "metadata": {},
   "outputs": [
    {
     "name": "stdout",
     "output_type": "stream",
     "text": [
      "MAE: 498.971672829761\n",
      "MAPE: 0.009259450696184304\n"
     ]
    }
   ],
   "source": [
    "from sklearn.metrics import mean_absolute_error, mean_absolute_percentage_error\n",
    "\n",
    "# Calculate MAE and MAPE\n",
    "mae = mean_absolute_error(y_test, y_pred)\n",
    "mape = mean_absolute_percentage_error(y_test, y_pred)\n",
    "\n",
    "print(f\"MAE: {mae}\")\n",
    "print(f\"MAPE: {mape}\")  # Convert to percentage format"
   ]
  },
  {
   "cell_type": "code",
   "execution_count": 20,
   "metadata": {},
   "outputs": [
    {
     "name": "stderr",
     "output_type": "stream",
     "text": [
      "Cloning into 'tabpfn-community'...\n"
     ]
    },
    {
     "name": "stdout",
     "output_type": "stream",
     "text": [
      "Obtaining file:///C:/Users/TimPr/allcode/energy-timeseries-project/3_Model/tabpfn-community\n",
      "  Installing build dependencies: started\n",
      "  Installing build dependencies: finished with status 'done'\n",
      "  Checking if build backend supports build_editable: started\n",
      "  Checking if build backend supports build_editable: finished with status 'done'\n",
      "  Getting requirements to build editable: started\n",
      "  Getting requirements to build editable: finished with status 'done'\n",
      "  Preparing editable metadata (pyproject.toml): started\n",
      "  Preparing editable metadata (pyproject.toml): finished with status 'done'\n",
      "Collecting seaborn==0.12.2 (from tabpfn-community==0.0.4)\n",
      "  Downloading seaborn-0.12.2-py3-none-any.whl.metadata (5.4 kB)\n",
      "Requirement already satisfied: numpy in c:\\users\\timpr\\appdata\\local\\programs\\python\\python310\\lib\\site-packages (from tabpfn-community==0.0.4) (2.2.1)\n",
      "Requirement already satisfied: torch in c:\\users\\timpr\\appdata\\local\\programs\\python\\python310\\lib\\site-packages (from tabpfn-community==0.0.4) (2.5.1+cu118)\n",
      "Requirement already satisfied: pandas in c:\\users\\timpr\\appdata\\local\\programs\\python\\python310\\lib\\site-packages (from tabpfn-community==0.0.4) (2.2.3)\n",
      "Requirement already satisfied: scikit-learn in c:\\users\\timpr\\appdata\\local\\programs\\python\\python310\\lib\\site-packages (from tabpfn-community==0.0.4) (1.5.2)\n",
      "Requirement already satisfied: scipy in c:\\users\\timpr\\appdata\\local\\programs\\python\\python310\\lib\\site-packages (from tabpfn-community==0.0.4) (1.15.1)\n",
      "Requirement already satisfied: matplotlib!=3.6.1,>=3.1 in c:\\users\\timpr\\appdata\\local\\programs\\python\\python310\\lib\\site-packages (from seaborn==0.12.2->tabpfn-community==0.0.4) (3.10.0)\n",
      "Requirement already satisfied: python-dateutil>=2.8.2 in c:\\users\\timpr\\appdata\\local\\programs\\python\\python310\\lib\\site-packages (from pandas->tabpfn-community==0.0.4) (2.9.0.post0)\n",
      "Requirement already satisfied: pytz>=2020.1 in c:\\users\\timpr\\appdata\\local\\programs\\python\\python310\\lib\\site-packages (from pandas->tabpfn-community==0.0.4) (2024.2)\n",
      "Requirement already satisfied: tzdata>=2022.7 in c:\\users\\timpr\\appdata\\local\\programs\\python\\python310\\lib\\site-packages (from pandas->tabpfn-community==0.0.4) (2024.2)\n",
      "Requirement already satisfied: joblib>=1.2.0 in c:\\users\\timpr\\appdata\\local\\programs\\python\\python310\\lib\\site-packages (from scikit-learn->tabpfn-community==0.0.4) (1.4.2)\n",
      "Requirement already satisfied: threadpoolctl>=3.1.0 in c:\\users\\timpr\\appdata\\local\\programs\\python\\python310\\lib\\site-packages (from scikit-learn->tabpfn-community==0.0.4) (3.5.0)\n",
      "Requirement already satisfied: filelock in c:\\users\\timpr\\appdata\\local\\programs\\python\\python310\\lib\\site-packages (from torch->tabpfn-community==0.0.4) (3.13.1)\n",
      "Requirement already satisfied: typing-extensions>=4.8.0 in c:\\users\\timpr\\appdata\\roaming\\python\\python310\\site-packages (from torch->tabpfn-community==0.0.4) (4.12.2)\n",
      "Requirement already satisfied: networkx in c:\\users\\timpr\\appdata\\local\\programs\\python\\python310\\lib\\site-packages (from torch->tabpfn-community==0.0.4) (3.2.1)\n",
      "Requirement already satisfied: jinja2 in c:\\users\\timpr\\appdata\\local\\programs\\python\\python310\\lib\\site-packages (from torch->tabpfn-community==0.0.4) (3.1.3)\n",
      "Requirement already satisfied: fsspec in c:\\users\\timpr\\appdata\\local\\programs\\python\\python310\\lib\\site-packages (from torch->tabpfn-community==0.0.4) (2024.2.0)\n",
      "Requirement already satisfied: sympy==1.13.1 in c:\\users\\timpr\\appdata\\local\\programs\\python\\python310\\lib\\site-packages (from torch->tabpfn-community==0.0.4) (1.13.1)\n",
      "Requirement already satisfied: mpmath<1.4,>=1.1.0 in c:\\users\\timpr\\appdata\\local\\programs\\python\\python310\\lib\\site-packages (from sympy==1.13.1->torch->tabpfn-community==0.0.4) (1.3.0)\n",
      "Requirement already satisfied: contourpy>=1.0.1 in c:\\users\\timpr\\appdata\\local\\programs\\python\\python310\\lib\\site-packages (from matplotlib!=3.6.1,>=3.1->seaborn==0.12.2->tabpfn-community==0.0.4) (1.3.1)\n",
      "Requirement already satisfied: cycler>=0.10 in c:\\users\\timpr\\appdata\\local\\programs\\python\\python310\\lib\\site-packages (from matplotlib!=3.6.1,>=3.1->seaborn==0.12.2->tabpfn-community==0.0.4) (0.12.1)\n",
      "Requirement already satisfied: fonttools>=4.22.0 in c:\\users\\timpr\\appdata\\local\\programs\\python\\python310\\lib\\site-packages (from matplotlib!=3.6.1,>=3.1->seaborn==0.12.2->tabpfn-community==0.0.4) (4.55.0)\n",
      "Requirement already satisfied: kiwisolver>=1.3.1 in c:\\users\\timpr\\appdata\\local\\programs\\python\\python310\\lib\\site-packages (from matplotlib!=3.6.1,>=3.1->seaborn==0.12.2->tabpfn-community==0.0.4) (1.4.7)\n",
      "Requirement already satisfied: packaging>=20.0 in c:\\users\\timpr\\appdata\\local\\programs\\python\\python310\\lib\\site-packages (from matplotlib!=3.6.1,>=3.1->seaborn==0.12.2->tabpfn-community==0.0.4) (24.2)\n",
      "Requirement already satisfied: pillow>=8 in c:\\users\\timpr\\appdata\\local\\programs\\python\\python310\\lib\\site-packages (from matplotlib!=3.6.1,>=3.1->seaborn==0.12.2->tabpfn-community==0.0.4) (11.0.0)\n",
      "Requirement already satisfied: pyparsing>=2.3.1 in c:\\users\\timpr\\appdata\\local\\programs\\python\\python310\\lib\\site-packages (from matplotlib!=3.6.1,>=3.1->seaborn==0.12.2->tabpfn-community==0.0.4) (3.2.0)\n",
      "Requirement already satisfied: six>=1.5 in c:\\users\\timpr\\appdata\\local\\programs\\python\\python310\\lib\\site-packages (from python-dateutil>=2.8.2->pandas->tabpfn-community==0.0.4) (1.17.0)\n",
      "Requirement already satisfied: MarkupSafe>=2.0 in c:\\users\\timpr\\appdata\\local\\programs\\python\\python310\\lib\\site-packages (from jinja2->torch->tabpfn-community==0.0.4) (3.0.2)\n",
      "Downloading seaborn-0.12.2-py3-none-any.whl (293 kB)\n",
      "Building wheels for collected packages: tabpfn-community\n",
      "  Building editable for tabpfn-community (pyproject.toml): started\n",
      "  Building editable for tabpfn-community (pyproject.toml): finished with status 'done'\n",
      "  Created wheel for tabpfn-community: filename=tabpfn_community-0.0.4-0.editable-py3-none-any.whl size=11306 sha256=5a8a98e836bfe7208b9d38a3c518c8600770938b542de4b4f39adfde4388d4ce\n",
      "  Stored in directory: C:\\Users\\TimPr\\AppData\\Local\\Temp\\pip-ephem-wheel-cache-8_y9oci3\\wheels\\c0\\1a\\53\\abf6de3001e871811c97ee315b44ef1e4a1e88ebe552f560ad\n",
      "Successfully built tabpfn-community\n",
      "Installing collected packages: seaborn, tabpfn-community\n",
      "  Attempting uninstall: seaborn\n",
      "    Found existing installation: seaborn 0.13.2\n",
      "    Uninstalling seaborn-0.13.2:\n",
      "      Successfully uninstalled seaborn-0.13.2\n",
      "Successfully installed seaborn-0.12.2 tabpfn-community-0.0.4\n"
     ]
    },
    {
     "name": "stderr",
     "output_type": "stream",
     "text": [
      "WARNING: tabpfn-community 0.0.4 does not provide the extra 'autoregressive'\n",
      "\n",
      "[notice] A new release of pip is available: 24.3.1 -> 25.0.1\n",
      "[notice] To update, run: python.exe -m pip install --upgrade pip\n"
     ]
    }
   ],
   "source": [
    "!git clone https://github.com/PriorLabs/tabpfn-community\n",
    "!pip install -e tabpfn-community[autoregressive]\n"
   ]
  },
  {
   "cell_type": "code",
   "execution_count": 22,
   "metadata": {},
   "outputs": [
    {
     "ename": "RuntimeError",
     "evalue": "Fail to call predict with error: {'detail': 'Prediction API Limit Reached! Currently, we only allow feeding 5000000 (table) cells per day for your account. Reach out to us if you need more. Please try again after 2025-02-16 00:00:00 UTC!'}",
     "output_type": "error",
     "traceback": [
      "\u001b[1;31m---------------------------------------------------------------------------\u001b[0m",
      "\u001b[1;31mRuntimeError\u001b[0m                              Traceback (most recent call last)",
      "Cell \u001b[1;32mIn[22], line 10\u001b[0m\n\u001b[0;32m      7\u001b[0m model\u001b[38;5;241m.\u001b[39mfit(X_train_scaled, y_train)\n\u001b[0;32m      9\u001b[0m \u001b[38;5;66;03m# Make predictions on the test data\u001b[39;00m\n\u001b[1;32m---> 10\u001b[0m y_pred \u001b[38;5;241m=\u001b[39m \u001b[43mmodel\u001b[49m\u001b[38;5;241;43m.\u001b[39;49m\u001b[43mpredict\u001b[49m\u001b[43m(\u001b[49m\u001b[43mX_test_scaled\u001b[49m\u001b[43m)\u001b[49m\n",
      "File \u001b[1;32mc:\\Users\\TimPr\\AppData\\Local\\Programs\\Python\\Python310\\lib\\site-packages\\tabpfn_client\\estimator.py:369\u001b[0m, in \u001b[0;36mTabPFNRegressor.predict\u001b[1;34m(self, X, output_type, quantiles)\u001b[0m\n\u001b[0;32m    364\u001b[0m estimator_param \u001b[38;5;241m=\u001b[39m \u001b[38;5;28mself\u001b[39m\u001b[38;5;241m.\u001b[39mget_params()\n\u001b[0;32m    365\u001b[0m estimator_param[\u001b[38;5;124m\"\u001b[39m\u001b[38;5;124mmodel_path\u001b[39m\u001b[38;5;124m\"\u001b[39m] \u001b[38;5;241m=\u001b[39m TabPFNRegressor\u001b[38;5;241m.\u001b[39m_model_name_to_path(\n\u001b[0;32m    366\u001b[0m     \u001b[38;5;124m\"\u001b[39m\u001b[38;5;124mregression\u001b[39m\u001b[38;5;124m\"\u001b[39m, \u001b[38;5;28mself\u001b[39m\u001b[38;5;241m.\u001b[39mmodel_path\n\u001b[0;32m    367\u001b[0m )\n\u001b[1;32m--> 369\u001b[0m \u001b[38;5;28;01mreturn\u001b[39;00m \u001b[43mInferenceClient\u001b[49m\u001b[38;5;241;43m.\u001b[39;49m\u001b[43mpredict\u001b[49m\u001b[43m(\u001b[49m\n\u001b[0;32m    370\u001b[0m \u001b[43m    \u001b[49m\u001b[43mX\u001b[49m\u001b[43m,\u001b[49m\n\u001b[0;32m    371\u001b[0m \u001b[43m    \u001b[49m\u001b[43mtask\u001b[49m\u001b[38;5;241;43m=\u001b[39;49m\u001b[38;5;124;43m\"\u001b[39;49m\u001b[38;5;124;43mregression\u001b[39;49m\u001b[38;5;124;43m\"\u001b[39;49m\u001b[43m,\u001b[49m\n\u001b[0;32m    372\u001b[0m \u001b[43m    \u001b[49m\u001b[43mtrain_set_uid\u001b[49m\u001b[38;5;241;43m=\u001b[39;49m\u001b[38;5;28;43mself\u001b[39;49m\u001b[38;5;241;43m.\u001b[39;49m\u001b[43mlast_train_set_uid\u001b[49m\u001b[43m,\u001b[49m\n\u001b[0;32m    373\u001b[0m \u001b[43m    \u001b[49m\u001b[43mconfig\u001b[49m\u001b[38;5;241;43m=\u001b[39;49m\u001b[43mestimator_param\u001b[49m\u001b[43m,\u001b[49m\n\u001b[0;32m    374\u001b[0m \u001b[43m    \u001b[49m\u001b[43mpredict_params\u001b[49m\u001b[38;5;241;43m=\u001b[39;49m\u001b[43mpredict_params\u001b[49m\u001b[43m,\u001b[49m\n\u001b[0;32m    375\u001b[0m \u001b[43m    \u001b[49m\u001b[43mX_train\u001b[49m\u001b[38;5;241;43m=\u001b[39;49m\u001b[38;5;28;43mself\u001b[39;49m\u001b[38;5;241;43m.\u001b[39;49m\u001b[43mlast_train_X\u001b[49m\u001b[43m,\u001b[49m\n\u001b[0;32m    376\u001b[0m \u001b[43m    \u001b[49m\u001b[43my_train\u001b[49m\u001b[38;5;241;43m=\u001b[39;49m\u001b[38;5;28;43mself\u001b[39;49m\u001b[38;5;241;43m.\u001b[39;49m\u001b[43mlast_train_y\u001b[49m\u001b[43m,\u001b[49m\n\u001b[0;32m    377\u001b[0m \u001b[43m\u001b[49m\u001b[43m)\u001b[49m\n",
      "File \u001b[1;32mc:\\Users\\TimPr\\AppData\\Local\\Programs\\Python\\Python310\\lib\\site-packages\\tabpfn_client\\service_wrapper.py:238\u001b[0m, in \u001b[0;36mInferenceClient.predict\u001b[1;34m(cls, X, task, train_set_uid, config, predict_params, X_train, y_train)\u001b[0m\n\u001b[0;32m    227\u001b[0m \u001b[38;5;129m@classmethod\u001b[39m\n\u001b[0;32m    228\u001b[0m \u001b[38;5;28;01mdef\u001b[39;00m \u001b[38;5;21mpredict\u001b[39m(\n\u001b[0;32m    229\u001b[0m     \u001b[38;5;28mcls\u001b[39m,\n\u001b[1;32m   (...)\u001b[0m\n\u001b[0;32m    236\u001b[0m     y_train\u001b[38;5;241m=\u001b[39m\u001b[38;5;28;01mNone\u001b[39;00m,\n\u001b[0;32m    237\u001b[0m ):\n\u001b[1;32m--> 238\u001b[0m     \u001b[38;5;28;01mreturn\u001b[39;00m \u001b[43mServiceClient\u001b[49m\u001b[38;5;241;43m.\u001b[39;49m\u001b[43mpredict\u001b[49m\u001b[43m(\u001b[49m\n\u001b[0;32m    239\u001b[0m \u001b[43m        \u001b[49m\u001b[43mtrain_set_uid\u001b[49m\u001b[38;5;241;43m=\u001b[39;49m\u001b[43mtrain_set_uid\u001b[49m\u001b[43m,\u001b[49m\n\u001b[0;32m    240\u001b[0m \u001b[43m        \u001b[49m\u001b[43mx_test\u001b[49m\u001b[38;5;241;43m=\u001b[39;49m\u001b[43mX\u001b[49m\u001b[43m,\u001b[49m\n\u001b[0;32m    241\u001b[0m \u001b[43m        \u001b[49m\u001b[43mtabpfn_config\u001b[49m\u001b[38;5;241;43m=\u001b[39;49m\u001b[43mconfig\u001b[49m\u001b[43m,\u001b[49m\n\u001b[0;32m    242\u001b[0m \u001b[43m        \u001b[49m\u001b[43mpredict_params\u001b[49m\u001b[38;5;241;43m=\u001b[39;49m\u001b[43mpredict_params\u001b[49m\u001b[43m,\u001b[49m\n\u001b[0;32m    243\u001b[0m \u001b[43m        \u001b[49m\u001b[43mtask\u001b[49m\u001b[38;5;241;43m=\u001b[39;49m\u001b[43mtask\u001b[49m\u001b[43m,\u001b[49m\n\u001b[0;32m    244\u001b[0m \u001b[43m        \u001b[49m\u001b[43mX_train\u001b[49m\u001b[38;5;241;43m=\u001b[39;49m\u001b[43mX_train\u001b[49m\u001b[43m,\u001b[49m\n\u001b[0;32m    245\u001b[0m \u001b[43m        \u001b[49m\u001b[43my_train\u001b[49m\u001b[38;5;241;43m=\u001b[39;49m\u001b[43my_train\u001b[49m\u001b[43m,\u001b[49m\n\u001b[0;32m    246\u001b[0m \u001b[43m    \u001b[49m\u001b[43m)\u001b[49m\n",
      "File \u001b[1;32mc:\\Users\\TimPr\\AppData\\Local\\Programs\\Python\\Python310\\lib\\site-packages\\tabpfn_client\\client.py:308\u001b[0m, in \u001b[0;36mServiceClient.predict\u001b[1;34m(cls, train_set_uid, x_test, task, predict_params, tabpfn_config, X_train, y_train)\u001b[0m\n\u001b[0;32m    304\u001b[0m \u001b[38;5;28;01mtry\u001b[39;00m:\n\u001b[0;32m    305\u001b[0m     \u001b[38;5;28;01mwith\u001b[39;00m \u001b[38;5;28mcls\u001b[39m\u001b[38;5;241m.\u001b[39m_make_prediction_request(\n\u001b[0;32m    306\u001b[0m         cached_test_set_uid, x_test_serialized, params\n\u001b[0;32m    307\u001b[0m     ) \u001b[38;5;28;01mas\u001b[39;00m response:\n\u001b[1;32m--> 308\u001b[0m         \u001b[38;5;28;43mcls\u001b[39;49m\u001b[38;5;241;43m.\u001b[39;49m\u001b[43m_validate_response\u001b[49m\u001b[43m(\u001b[49m\u001b[43mresponse\u001b[49m\u001b[43m,\u001b[49m\u001b[43m \u001b[49m\u001b[38;5;124;43m\"\u001b[39;49m\u001b[38;5;124;43mpredict\u001b[39;49m\u001b[38;5;124;43m\"\u001b[39;49m\u001b[43m)\u001b[49m\n\u001b[0;32m    309\u001b[0m         \u001b[38;5;66;03m# Handle updates from server\u001b[39;00m\n\u001b[0;32m    310\u001b[0m         client \u001b[38;5;241m=\u001b[39m sseclient\u001b[38;5;241m.\u001b[39mSSEClient(response\u001b[38;5;241m.\u001b[39miter_bytes())\n",
      "File \u001b[1;32mc:\\Users\\TimPr\\AppData\\Local\\Programs\\Python\\Python310\\lib\\site-packages\\tabpfn_client\\client.py:448\u001b[0m, in \u001b[0;36mServiceClient._validate_response\u001b[1;34m(response, method_name, only_version_check)\u001b[0m\n\u001b[0;32m    446\u001b[0m \u001b[38;5;28;01mif\u001b[39;00m \u001b[38;5;129;01mnot\u001b[39;00m only_version_check:\n\u001b[0;32m    447\u001b[0m     \u001b[38;5;28;01mif\u001b[39;00m load \u001b[38;5;129;01mis\u001b[39;00m \u001b[38;5;129;01mnot\u001b[39;00m \u001b[38;5;28;01mNone\u001b[39;00m:\n\u001b[1;32m--> 448\u001b[0m         \u001b[38;5;28;01mraise\u001b[39;00m \u001b[38;5;167;01mRuntimeError\u001b[39;00m(\u001b[38;5;124mf\u001b[39m\u001b[38;5;124m\"\u001b[39m\u001b[38;5;124mFail to call \u001b[39m\u001b[38;5;132;01m{\u001b[39;00mmethod_name\u001b[38;5;132;01m}\u001b[39;00m\u001b[38;5;124m with error: \u001b[39m\u001b[38;5;132;01m{\u001b[39;00mload\u001b[38;5;132;01m}\u001b[39;00m\u001b[38;5;124m\"\u001b[39m)\n\u001b[0;32m    449\u001b[0m     logger\u001b[38;5;241m.\u001b[39merror(\n\u001b[0;32m    450\u001b[0m         \u001b[38;5;124mf\u001b[39m\u001b[38;5;124m\"\u001b[39m\u001b[38;5;124mFail to call \u001b[39m\u001b[38;5;132;01m{\u001b[39;00mmethod_name\u001b[38;5;132;01m}\u001b[39;00m\u001b[38;5;124m, response status: \u001b[39m\u001b[38;5;132;01m{\u001b[39;00mresponse\u001b[38;5;241m.\u001b[39mstatus_code\u001b[38;5;132;01m}\u001b[39;00m\u001b[38;5;124m\"\u001b[39m\n\u001b[0;32m    451\u001b[0m     )\n\u001b[0;32m    452\u001b[0m     \u001b[38;5;28;01mtry\u001b[39;00m:\n",
      "\u001b[1;31mRuntimeError\u001b[0m: Fail to call predict with error: {'detail': 'Prediction API Limit Reached! Currently, we only allow feeding 5000000 (table) cells per day for your account. Reach out to us if you need more. Please try again after 2025-02-16 00:00:00 UTC!'}"
     ]
    }
   ],
   "source": [
    "from tabpfn_client import init, TabPFNRegressor\n",
    "\n",
    "# Initialize the TabPFN Autoregressor\n",
    "model = TabPFNRegressor()\n",
    "\n",
    "# Fit the model on the training data\n",
    "model.fit(X_train_scaled, y_train)\n",
    "\n",
    "# Make predictions on the test data\n",
    "y_pred = model.predict(X_test_scaled)\n"
   ]
  }
 ],
 "metadata": {
  "kernelspec": {
   "display_name": "Python 3",
   "language": "python",
   "name": "python3"
  },
  "language_info": {
   "codemirror_mode": {
    "name": "ipython",
    "version": 3
   },
   "file_extension": ".py",
   "mimetype": "text/x-python",
   "name": "python",
   "nbconvert_exporter": "python",
   "pygments_lexer": "ipython3",
   "version": "3.10.0"
  }
 },
 "nbformat": 4,
 "nbformat_minor": 2
}
